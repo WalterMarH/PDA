{
 "cells": [
  {
   "cell_type": "code",
   "execution_count": 1,
   "id": "b59cfb89",
   "metadata": {},
   "outputs": [
    {
     "name": "stdout",
     "output_type": "stream",
     "text": [
      "(['Lucas'], ['Morfeo'])\n"
     ]
    }
   ],
   "source": [
    "#Eje3\n",
    "\n",
    "def mayoresymenores(nom,eda):\n",
    "    mayor=0\n",
    "    menor=200\n",
    "    for i in eda:\n",
    "        if i>=mayor:\n",
    "            mayor=i\n",
    "        if i<=menor:\n",
    "            menor=i\n",
    "    listamayores=[]\n",
    "    listamenores=[]\n",
    "    for b in range(len(eda)):\n",
    "        if eda[b]==mayor:\n",
    "            listamayores.append(nom[b])\n",
    "        if eda[b]==menor:\n",
    "            listamenores.append(nom[b])\n",
    "    tupla=(listamenores,listamayores)\n",
    "    print(tupla)\n",
    "\n",
    "\n",
    "nombre=[\"Lucas\",\"Morfeo\",\"John\",\"Trinity\",\"Nioby\"]\n",
    "edades=[10,45,35,41,200]\n",
    "mayoresymenores(nombre,edades)"
   ]
  },
  {
   "cell_type": "code",
   "execution_count": 1,
   "id": "f23e2d75",
   "metadata": {},
   "outputs": [
    {
     "name": "stdout",
     "output_type": "stream",
     "text": [
      "Reales:  [0, 1, 1, 1, 1, 1, 1, 0, 1, 1, 1, 0, 1, 1, 0, 0, 1, 1, 0, 1, 0, 0, 0, 1, 1, 1, 1, 0, 0, 1, 0, 0, 0, 0, 1, 1, 1, 1, 0, 0, 1, 0, 1, 0, 0, 0, 1, 0, 0, 0, 1, 0, 1, 1, 1, 1, 1, 0, 1, 0, 0, 1, 0, 0, 1, 1, 1, 0, 0, 0, 1, 0, 0, 1, 0, 0, 1, 0, 1, 0, 1, 1, 0, 1, 1, 1, 1, 0, 1, 1, 1, 0, 0, 0, 1, 0, 0, 1, 1, 1]\n",
      "\n",
      "Test: [0, 1, 1, 1, 1, 1, 1, 0, 1, 0, 1, 1, 1, 1, 1, 1, 1, 0, 1, 1, 0, 0, 1, 0, 1, 1, 1, 0, 1, 0, 1, 1, 0, 1, 1, 1, 1, 0, 1, 0, 1, 1, 1, 1, 0, 1, 0, 0, 0, 0, 0, 1, 1, 1, 1, 0, 0, 0, 1, 1, 0, 1, 1, 1, 0, 1, 1, 1, 1, 1, 0, 1, 0, 1, 0, 1, 0, 1, 1, 0, 1, 0, 1, 0, 1, 0, 0, 1, 1, 1, 1, 0, 0, 0, 0, 0, 1, 0, 0, 0]\n",
      "\n",
      "(34, 26, 20, 20)\n"
     ]
    }
   ],
   "source": [
    "#Eje4\n",
    "#a:\n",
    "nombrearchivoReales=\"datosReales.txt\"\n",
    "archivoreales=open(nombrearchivoReales,\"r\")\n",
    "archivorealeslista=(archivoreales.read().split(\" \"))\n",
    "for i in range(len(archivorealeslista)):\n",
    "    archivorealeslista[i]=int(archivorealeslista[i])\n",
    "print(\"Reales: \" ,archivorealeslista)\n",
    "print(\"\")\n",
    "nombrearchivoTest=\"resultadosTest.txt\"\n",
    "archivoTest=open(nombrearchivoTest,\"r\")\n",
    "archivotestlista=(archivoTest.read().split(\" \"))\n",
    "for i in range(len(archivotestlista)):\n",
    "    archivotestlista[i]=int(archivotestlista[i])\n",
    "print(\"Test:\" ,archivotestlista)\n",
    "\n",
    "#b\n",
    "def getCMValues(reales,test):\n",
    "    resultados=reales[:]\n",
    "    tp=0\n",
    "    fn=0\n",
    "    tn=0\n",
    "    fp=0\n",
    "    for i in range(len(reales)):\n",
    "        if reales[i]==1 and test[i]==1:\n",
    "            resultados[i]='TP'\n",
    "            tp=tp+1\n",
    "        elif reales[i]==1 and test[i]==0:\n",
    "            resultados[i]='FN'\n",
    "            fn=fn+1\n",
    "        elif reales[i]==0 and test[i]==0:\n",
    "            resultados[i]='TN'\n",
    "            tn=tn+1\n",
    "        elif reales[i]==0 and test[i]==1:\n",
    "            resultados[i]='FP'\n",
    "            fp=fp+1\n",
    "    resultados=tuple(resultados)\n",
    "    resultadosnum=(tp,fp,tn,fn)\n",
    "    return resultadosnum\n",
    "print(\"\")\n",
    "print(getCMValues(archivorealeslista,archivotestlista))\n",
    "\n",
    "\n",
    "\n",
    "\n"
   ]
  },
  {
   "cell_type": "code",
   "execution_count": 20,
   "id": "7c2365db",
   "metadata": {},
   "outputs": [
    {
     "name": "stdout",
     "output_type": "stream",
     "text": [
      "(0.54, 0.5666666666666667, 0.6296296296296297, 0.29411764705882354)\n"
     ]
    }
   ],
   "source": [
    "#Eje5\n",
    "\n",
    "def getMetrics(valores):\n",
    "    tp=valores[0]\n",
    "    fp=valores[1]\n",
    "    tn=valores[2]\n",
    "    fn=valores[3]\n",
    "\n",
    "    accuracy=(tp+tn)/(tp+tn+fp+fn)\n",
    "    precision=tp/(tp+fp)\n",
    "    sensibilidad=tp/(tp+fn)\n",
    "    especibilidad=tn/(tp+tp)\n",
    "\n",
    "    results=(accuracy,precision,sensibilidad,especibilidad)\n",
    "    return results\n",
    "\n",
    "print(getMetrics(getCMValues(archivorealeslista,archivotestlista)))"
   ]
  }
 ],
 "metadata": {
  "interpreter": {
   "hash": "ad2bdc8ecc057115af97d19610ffacc2b4e99fae6737bb82f5d7fb13d2f2c186"
  },
  "kernelspec": {
   "display_name": "Python 3.9.7 ('base')",
   "language": "python",
   "name": "python3"
  },
  "language_info": {
   "codemirror_mode": {
    "name": "ipython",
    "version": 3
   },
   "file_extension": ".py",
   "mimetype": "text/x-python",
   "name": "python",
   "nbconvert_exporter": "python",
   "pygments_lexer": "ipython3",
   "version": "3.9.7"
  }
 },
 "nbformat": 4,
 "nbformat_minor": 5
}
