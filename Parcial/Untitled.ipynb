{
 "cells": [
  {
   "cell_type": "code",
   "execution_count": null,
   "id": "d35bafcb",
   "metadata": {},
   "outputs": [],
   "source": [
    "#Eje3\n",
    "\n",
    "def mayoresymenores(nom,eda):\n",
    "    mayor=0\n",
    "    menor=200\n",
    "    for i in eda:\n",
    "        if i>=mayor:\n",
    "            mayor=i\n",
    "        if i<=menor:\n",
    "            menor=i\n",
    "    print(mma)\n",
    "\n",
    "nombre=[\"Lucas\",\"Morfeo\",\"John\",\"Trinity\",\"Nioby\"]\n",
    "edades=[35,45,35,41,44]\n"
   ]
  }
 ],
 "metadata": {
  "kernelspec": {
   "display_name": "Python 3 (ipykernel)",
   "language": "python",
   "name": "python3"
  },
  "language_info": {
   "codemirror_mode": {
    "name": "ipython",
    "version": 3
   },
   "file_extension": ".py",
   "mimetype": "text/x-python",
   "name": "python",
   "nbconvert_exporter": "python",
   "pygments_lexer": "ipython3",
   "version": "3.9.7"
  }
 },
 "nbformat": 4,
 "nbformat_minor": 5
}
