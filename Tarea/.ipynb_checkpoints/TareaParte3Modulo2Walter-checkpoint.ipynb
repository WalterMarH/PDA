{
 "cells": [
  {
   "cell_type": "markdown",
   "id": "6c5bce21",
   "metadata": {},
   "source": [
    "# <center> <span style='color:#3A40A2 '>Ejercitación Módulo 2 - 3ra parte</span></center>\n",
    "<hr style=\"border:1px solid gray\"> </hr>\n",
    "\n",
    "La siguiente notebook contiene ejercitación del Módulo 2 de la Unidad Curricular ***\"Programación Digital Avanzada\"*** de la carrera de *Ingeniería Biomédica* de la UTEC.\n",
    "\n",
    "La *primera parte* y la *segunda parte* de esta notebook serán utilizadas para ejercitación. Por otro lado, la *tercera parte* será utilizada para el laboratorio del módulo y **se debe entregar** resuelta en una Jupyter Notebbok (puede ser esta misma). Además debe subirse la resolución a su repositorio de PDA en github.\n",
    "\n",
    "Profesor Adjunto: *Mag. Bioing. Baldezzari Lucas*\n",
    "\n",
    "<p style='text-align: right;'> V2022 </p>"
   ]
  },
  {
   "cell_type": "markdown",
   "id": "17315869",
   "metadata": {},
   "source": [
    "<hr style=\"border:1px solid gray\"> </hr>\n",
    "\n",
    "## <span style='color:#3A40A2 '> Tercera parte </span>\n",
    "\n",
    "Esta parte corresponde a ejercicios obligatorios que deben ser entregados.\n",
    "\n",
    "Se trabajará sobre estos problemas en la clase de Laboratorio."
   ]
  },
  {
   "cell_type": "markdown",
   "id": "0de98cfc",
   "metadata": {},
   "source": [
    "##### Ejercicio 3.1\n",
    "\n",
    "Implemente una función que reciba como parámetro una muestra de números (enteros o flotantes) y retorne una lista con los valores *outliers* o *atípicos*. En caso de que no existan valores atípicos, la función debe retornar None.\n",
    "\n",
    "Los outliers se calculan de la siguiente manera.\n",
    "\n",
    "$$ outlier < Q_1 - 1.5RIC \\vee outlier > Q_3 + 1.5RIC $$\n",
    "\n",
    "Donde $RIC$ representa el *Rango Intercuartil* y esta dado por $RIC = Q_3 - Q_1$."
   ]
  },
  {
   "cell_type": "code",
   "execution_count": 1,
   "id": "1c4821ce",
   "metadata": {
    "scrolled": true
   },
   "outputs": [
    {
     "name": "stdout",
     "output_type": "stream",
     "text": [
      "[1, 1, 2, 2, 2, 2, 3, 3, 3, 3, 4, 4, 4, 4, 4, 4, 4, 5, 5, 5, 5, 5, 6, 6, 6, 6, 6, 6, 6, 6, 6, 7, 7, 7, 7, 8, 8, 8, 8, 8, 8, 9, 23, 32, 32, 56, 65, 67, 89, 564]\n",
      "4 8 4\n",
      "[23, 32, 32, 56, 65, 67, 89, 564]\n"
     ]
    }
   ],
   "source": [
    "### Resolución ejercicio 3.1\n",
    "##TO DO\n",
    "\n",
    "def atipicos(lista):\n",
    "    lista=sorted(lista)\n",
    "    print(lista)\n",
    "    q1indic=int(((len(lista)+1)/4)*1)\n",
    "    q3indic=int(((len(lista)+1)/4)*3)\n",
    "    q1=lista[q1indic]\n",
    "    q3=lista[q3indic]\n",
    "    RIC=q3-q1\n",
    "    print(q1,q3,RIC)\n",
    "    listaout=[]\n",
    "    for i in lista:\n",
    "        if i <(q1-1.5*RIC) or i >(q3+1.5*RIC):\n",
    "            listaout.append(i)\n",
    "    print(listaout)\n",
    "    \n",
    "lista=[1,2,3,2,23,3,4,4,5,65,6,6,7,67,5,3,2,4,5,6,6,7,7,8,89,9,8,8,6,4,32,2,1,3,4,56,6,7,564,6,8,8,6,5,4,32,4,5,6,8]\n",
    "atipicos(lista)\n",
    "\n"
   ]
  },
  {
   "cell_type": "code",
   "execution_count": 24,
   "id": "a4000138",
   "metadata": {},
   "outputs": [
    {
     "name": "stdout",
     "output_type": "stream",
     "text": [
      "4\n"
     ]
    }
   ],
   "source": []
  },
  {
   "cell_type": "markdown",
   "id": "37c8b395",
   "metadata": {},
   "source": [
    "##### Ejercicio 3.2\n",
    "\n",
    "La función *[sum()](https://docs.python.org/3/library/functions.html#sum)* de Python permite sumar una secuencia de números.\n",
    "\n",
    "Su implementación es,\n",
    "\n",
    "```Python\n",
    "sum(iterable, start)\n",
    "```\n",
    "\n",
    "Como se ve, solo recibe dos parámetros. Si hacemos, \n",
    "\n",
    "```Python\n",
    "sum([1,2,3]) #obtenemos 6 de resultado.\n",
    "```\n",
    "\n",
    "Pero si quisieramos hacer *sum(1,2,3,4)* obtendríamos un error.\n",
    "\n",
    "Se pide que implemente una función suma de tal manera que pueda recibir cualquier cantidad de parámetros (1,2,...,n) y retorne la suma de los mismos. Los parámetros solo pueden ser números enteros o flotantes separados por coma."
   ]
  },
  {
   "cell_type": "code",
   "execution_count": 26,
   "id": "4b721a6d",
   "metadata": {},
   "outputs": [
    {
     "name": "stdout",
     "output_type": "stream",
     "text": [
      "15\n"
     ]
    }
   ],
   "source": [
    "### Resolución ejercicio 3.2\n",
    "### TO DO\n",
    "def suma(*sec):\n",
    "    return sum(sec)\n",
    "print(suma(1,2,3,4,5))\n",
    "\n",
    "\n"
   ]
  },
  {
   "cell_type": "markdown",
   "id": "b6b9f121",
   "metadata": {},
   "source": [
    "##### Ejercicio 3.3\n",
    "\n",
    "Implemente una función que devuelva el índice de masa corporal. La función recibe como parámetros una lista con las alturas en $cm$ y una lista con los pesos en $kg$ de una cierta cantidad de personas.\n",
    "\n",
    "Implemente la solución utilizando comprensión de listas e/o intente dar una solución usando funciones lambdas con la función map() de Python."
   ]
  },
  {
   "cell_type": "code",
   "execution_count": 24,
   "id": "5d6702f8",
   "metadata": {},
   "outputs": [
    {
     "name": "stdout",
     "output_type": "stream",
     "text": [
      "[22.09, 33.06, 38.05, 21.51, 18.48, 24.74, 41.77]\n"
     ]
    }
   ],
   "source": [
    "### Resolución ejercicio 3.3\n",
    "def masalistcomp(masas,alturas):\n",
    "    \n",
    "    return [round(masas[i]/((alturas[i])/100)**2 , 2) for i in range(len(masas)-1)]\n",
    "   \n",
    "\n",
    "masas=[70,90,80,60,66,69,75,83]\n",
    "alturas=[178,165,145,167,189,167,134,134]\n",
    "print(masalistcomp(masas,alturas))\n",
    "### TO DO"
   ]
  },
  {
   "cell_type": "markdown",
   "id": "5862b855",
   "metadata": {},
   "source": [
    "##### Ejercicio 3.4\n",
    "\n",
    "Implemente una función llamada *mathOperations* que reciba como parámetros,\n",
    "- Un string con la operación a realizar, \"sumar\" para sumar, \"restar\" para restar, \"dividir\" para dividir y \"multiplicar\" para multiplicar.\n",
    "- Y dos variables numéricas que se usarán para realizar la operación matemática seleccionada.\n",
    "\n",
    "La función debe devolver un resultado dependiendo de la operación seleccionada.\n",
    "\n",
    "La implementación de la función debe contener anotaciones y documentación apropiada."
   ]
  },
  {
   "cell_type": "code",
   "execution_count": 4,
   "id": "6d787c0d",
   "metadata": {},
   "outputs": [],
   "source": [
    "### Resolución ejercicio 3.4\n",
    "def mathOperations(operacion,num1,num2):\n",
    "    if operacion==\"sumar\":\n",
    "        return num1+num2\n",
    "    elif operacion==\"restar\":\n",
    "        return num1-num2\n",
    "    elif operacion==\"dividir\":\n",
    "        return num1/num2\n",
    "    elif operacion==\"multiplicar\":\n",
    "        return num1*num2\n",
    "    \n",
    "\n",
    "### TO DO"
   ]
  },
  {
   "cell_type": "markdown",
   "id": "b9f3d129",
   "metadata": {},
   "source": [
    "##### Ejercicio 3.5\n",
    "\n",
    "El número $\\pi$ puede aproximarse con la siguiente fórmula de aproximación,\n",
    "\n",
    "\\begin{equation*}\n",
    "\\pi = 3+ 4 \\sum _ { n = 2,4,6...; k=0,1,2.. } ^ { N,K } (-1)^k \\left[ \\frac {1}{n (n+1) (n+2)} \\right]\n",
    "\\end{equation*}\n",
    "\n",
    "Implemente una función que reciba como argumento la cantidad de aproximaciones *$N$* a realizar y retorne el valor de la aproximación.\n",
    "\n",
    "La implementación de la función debe contener anotaciones y documentación apropiada.\n",
    "\n",
    "NOTA: El valor de $k$ sirve para alternar el signo del término $(-1)^k$."
   ]
  },
  {
   "cell_type": "code",
   "execution_count": 3,
   "id": "8b80fb8c",
   "metadata": {},
   "outputs": [
    {
     "name": "stdout",
     "output_type": "stream",
     "text": [
      "3.141592653590042\n"
     ]
    }
   ],
   "source": [
    "## Resolución Ejercicio 3.5\n",
    "def piaprox(N):\n",
    "    n=list(range(2,N,2))\n",
    "    k=list(range(0,((N//2)-1)))\n",
    "    #print(n,k)\n",
    "    elementos=[(-1)**(k[i])*(1/(n[i]*(n[i]+1)*(n[i]+2))) for i in k]\n",
    "    #print(elementos)\n",
    "    pi=3+4*sum(elementos)\n",
    "    print(pi)\n",
    "\n",
    "piaprox(20000)\n",
    "    \n",
    "##TO DO"
   ]
  },
  {
   "cell_type": "markdown",
   "id": "99326d18",
   "metadata": {},
   "source": [
    "##### Ejercicio 3.6\n",
    "\n",
    "En criptografía, el cifrado César, también conocido como cifrado por desplazamiento, código de César o desplazamiento de César, es una de las técnicas de cifrado más simples conocidas. Es un tipo de cifrado por sustitución en el que una letra en el texto original es reemplazada por otra letra que se encuentra un número fijo de posiciones más adelante en el alfabeto. Por ejemplo, con un desplazamiento de 3, la A sería sustituida por la D (situada 3 lugares a la derecha de la A), la B sería reemplazada por la E, etc. Este método debe su nombre a Julio César, que lo usaba para comunicarse con sus generales. Fuente [Wikipedia](https://es.wikipedia.org/wiki/Cifrado_C%C3%A9sar).\n",
    "\n",
    "Debe implementar,\n",
    "- Una función que se llame *codificar()* que reciba un mensaje y la cantidad de desplazamientos a realizar (la función debe tener este parametro con un valor por defecto para el caso de que el usuario no otorge un valor). La función debe retornar un mensaje encriptado.\n",
    "- Una función que se llame *decodificar* que reciba como argumento la cantidad de desplazamientos a realizar (la función debe tener este parametro con un valor por defecto para el caso de que el usuario no otorge un valor). La función debe retornar un mensaje desencriptado.\n",
    "\n",
    "La implementación de la función debe contener anotaciones y documentación apropiada."
   ]
  },
  {
   "cell_type": "code",
   "execution_count": 9,
   "id": "b81b07f0",
   "metadata": {},
   "outputs": [
    {
     "name": "stdout",
     "output_type": "stream",
     "text": [
      "KrodcTxhcKdfh\n",
      "Hola Que Hace\n"
     ]
    }
   ],
   "source": [
    "## Resolución Ejercicio 3.6\n",
    "##TO DO\n",
    "def codificar(mensajeacod,n=3):\n",
    "    letras=[\" \",\"a\",\"b\",\"c\",\"d\",\"e\",\"f\",\"g\",\"h\",\"i\",\"j\",\"k\",\"l\",\"m\",\"n\",\"o\",\"p\",\"q\",\"r\",\"s\",\"t\",\"u\",\"v\",\"w\",\"x\",\"y\",\"z\",\" \",\"A\",\"B\",\"C\",\"D\",\"E\",\"F\",\"G\",\"H\",\"I\",\"J\",\"K\",\"L\",\"M\",\"N\",\"O\",\"P\",\"Q\",\"R\",\"S\",\"T\",\"U\",\"V\",\"W\",\"X\",\"Y\",\"Z\",\" \",\"a\",\"b\",\"c\",\"d\",\"e\",\"f\",\"g\",\"h\",\"i\",\"j\",\"k\",\"l\",\"m\",\"n\",\"o\",\"p\",\"q\",\"r\",\"s\",\"t\",\"u\",\"v\",\"w\",\"x\",\"y\",\"z\"]\n",
    "    mensaje=list(mensajeacod)\n",
    "    listindex=[letras.index(i) for i in mensaje]\n",
    "    indexcod=[i+n for i in listindex]\n",
    "    mensajecod=[letras[i] for i in indexcod]\n",
    "    return \"\".join(mensajecod)\n",
    "\n",
    "def decodificar(mensajeadec,n=3):\n",
    "    letras=[\" \",\"a\",\"b\",\"c\",\"d\",\"e\",\"f\",\"g\",\"h\",\"i\",\"j\",\"k\",\"l\",\"m\",\"n\",\"o\",\"p\",\"q\",\"r\",\"s\",\"t\",\"u\",\"v\",\"w\",\"x\",\"y\",\"z\",\" \",\"A\",\"B\",\"C\",\"D\",\"E\",\"F\",\"G\",\"H\",\"I\",\"J\",\"K\",\"L\",\"M\",\"N\",\"O\",\"P\",\"Q\",\"R\",\"S\",\"T\",\"U\",\"V\",\"W\",\"X\",\"Y\",\"Z\",\" \",\"a\",\"b\",\"c\",\"d\",\"e\",\"f\",\"g\",\"h\",\"i\",\"j\",\"k\",\"l\",\"m\",\"n\",\"o\",\"p\",\"q\",\"r\",\"s\",\"t\",\"u\",\"v\",\"w\",\"x\",\"y\",\"z\"]\n",
    "    mensaje=list(mensajeadec)\n",
    "    listindex=[letras.index(i) for i in mensaje]\n",
    "    indexdec=[i-n for i in listindex]\n",
    "    mensajedec=[letras[i] for i in indexdec]\n",
    "    return \"\".join(mensajedec)\n",
    "acod=(\"Hola Que Hace\")\n",
    "cod=codificar(acod,3)\n",
    "print(cod)\n",
    "dec=decodificar(cod,3)\n",
    "print(dec)\n"
   ]
  },
  {
   "cell_type": "markdown",
   "id": "a2b06185",
   "metadata": {},
   "source": [
    "##### Ejercicio 3.7\n",
    "\n",
    "Una ruleta posee una rueda con 38 espacios. De estos espacios, 18 son negros, 18 son rojos y dos son verdes. Los espacios verdes están numerados cómo 0 y 00 (por simplicidad tomar sólo 0 como posible apuesta).\n",
    "\n",
    "Los espacios rojos en la ruleta están numerados 1, 3, 5, 7, 9, 12, 14, 16, 18, 19, 21, 23, 25, 27, 30 32, 34 y 36. El resto de los números son de color negro.\n",
    "\n",
    "Es posible realizar muchas apuestas en un juego de ruleta convencional, no obstante, para este ejercicio considere las siguientes:\n",
    "\n",
    "- Números simples (1 a 36, y 0)\n",
    "- Negras vs Rojas\n",
    "- Pares vs Impares (el 0 no debe considerarse dentro de esta apuesta)\n",
    "- 1 a 18 vs 19 a 36.\n",
    "\n",
    "Implemente una función que reciba como argumento una apuesta (número entero) entre 0 y 36. La función debe generar un número entero aleatorio (use las funciones de la librería *random*) y devolver un mensaje donde se informe que apuestas deben pagarse al jugador, por ejemplo,\n",
    "\n",
    "```Python\n",
    "print(juegoRuleta(apuesta = 14))\n",
    "```\n",
    "\n",
    "Si el número aleatorio generado es el 14, el mensaje retornado debería ser similar a:\n",
    "\n",
    "- Pagar al 14\n",
    "- Pagar rojas\n",
    "- Pagar pares\n",
    "- Pagar 1 a 18\n",
    "\n",
    "Si el número aleatorio generado es el 23, el mensaje retornado debería ser similar a:\n",
    "\n",
    "- Pagar rojas\n",
    "\n",
    "\n",
    "La implementación de la función debe contener anotaciones y documentación apropiada."
   ]
  },
  {
   "cell_type": "code",
   "execution_count": 29,
   "id": "31709ffa",
   "metadata": {},
   "outputs": [
    {
     "name": "stdout",
     "output_type": "stream",
     "text": [
      "El numero sorteado es  14\n",
      "Pagar a pares\n",
      "Pagar rojas\n"
     ]
    }
   ],
   "source": [
    "## Resolución Ejercicio 3.7\n",
    "import random as random\n",
    "\n",
    "def juegoRuleta(apuesta):\n",
    "    aleatorio=random.randint(0, 36)\n",
    "    print(\"El numero sorteado es \", aleatorio)\n",
    "    rojas=[1, 3, 5, 7, 9, 12, 14, 16, 18, 19, 21, 23, 25, 27, 30, 32, 34, 36]\n",
    "    verdes=[0]\n",
    "    if apuesta==aleatorio:\n",
    "        print(\"Pagar al \",apuesta)\n",
    "    if (apuesta%2==0 and apuesta!=0) and (aleatorio%2==0 and aleatorio!=0):\n",
    "        print(\"Pagar a pares\")\n",
    "    if (apuesta%2!=0) and (aleatorio%2!=0):\n",
    "        print(\"Pagar a impares\")\n",
    "    if (apuesta in rojas) and (aleatorio in rojas):\n",
    "        print(\"Pagar rojas\")\n",
    "    if ((apuesta not in rojas) and apuesta!=0) and ((aleatorio not in rojas) and aleatorio!=0):\n",
    "        print(\"Pagar negras\")\n",
    "    if (apuesta<=18 and apuesta!=0) and (aleatorio<=18 and aleatorio!=0):\n",
    "        print(\"Pagar 1 a 18\")\n",
    "    if (apuesta>=19 and apuesta!=0) and (aleatorio>=19 and aleatorio!=0):\n",
    "        print(\"Pagar 19 a 36\")\n",
    "    \n",
    "    \n",
    "juegoRuleta(34)\n",
    "    \n",
    "    \n",
    "    \n",
    "##TO DO"
   ]
  },
  {
   "cell_type": "markdown",
   "id": "16681842",
   "metadata": {},
   "source": [
    "##### Ejercicio 3.8\n",
    "\n",
    "1. Implemente una función que reciba como parámetro una lista de palabras y devuelva una lista de las posibles combinaciones de a dos. La lista retornada debe contener las tuplas correspondientes a la combinación de dos palabras. Por ejemplo, si la lista es,\n",
    "\n",
    "```Python\n",
    "palabras = [\"ing\", \"bio\", \"bci\"]\n",
    "```\n",
    "\n",
    "La función debe retornar algo similar a:\n",
    "\n",
    "```Python\n",
    ">> [(\"ing\",\"bio\"), (\"ing\",\"bci\"), (\"bio\",\"bci\")]\n",
    "```\n",
    "\n",
    "Recuerde que en combinación **no** importa el orden.\n",
    "\n",
    "2. Luego intente implementar lo mismo utilizando *list comprehension* y utilizando la función *[combinations](https://docs.python.org/3/library/itertools.html#itertools.combinations)* de la librería *[itertools](https://docs.python.org/3/library/itertools.html)*. Para usar esta herramienta debe importar la librería o bien el método, haciendo,\n",
    "\n",
    "```Python\n",
    "from itertools import combinations\n",
    "```\n",
    "\n",
    "La implementación de la función debe contener anotaciones y documentación apropiada."
   ]
  },
  {
   "cell_type": "code",
   "execution_count": 3,
   "id": "a3e03a70",
   "metadata": {},
   "outputs": [
    {
     "name": "stdout",
     "output_type": "stream",
     "text": [
      "[('ing', 'bio'), ('ing', 'bci'), ('bio', 'bci')]\n"
     ]
    }
   ],
   "source": [
    "# Resolución Ejercicio 3.8\n",
    "#TO DO\n",
    "\n",
    "def combinaciones(lista):\n",
    "    listascombs=[]\n",
    "    listatuplas=[]\n",
    "    for index,valores in enumerate(lista):\n",
    "        lista2=lista[:]\n",
    "        listascombs.append(lista2[index])\n",
    "        lista2.remove(valores)\n",
    "        while len(lista2)>0:\n",
    "            listascombs.append(lista2[0])\n",
    "            lista2.remove(lista2[0])\n",
    "            listatuplas.append(tuple(listascombs))\n",
    "            listascombs.remove(listascombs[1])\n",
    "        listascombs=[]\n",
    "    listareversa=[]\n",
    "    for i in listatuplas:\n",
    "        a=(tuple(reversed(i)))\n",
    "        listareversa.append(a)\n",
    "    listadef=[]\n",
    "    for i in listatuplas:\n",
    "        if i in listareversa:\n",
    "            listadef.append(i)\n",
    "    print(listareversa)\n",
    "    print(listatuplas)\n",
    "    print(listadef)\n",
    "        \n",
    "\n",
    "palabras = [\"ing\", \"bio\", \"bci\"]     \n",
    "# combinaciones(palabras)\n",
    "        \n",
    "    \n",
    "    \n",
    "from itertools import combinations          \n",
    "print(list(combinations(palabras,2)))\n",
    "\n",
    "\n"
   ]
  },
  {
   "cell_type": "code",
   "execution_count": 29,
   "id": "140732e1",
   "metadata": {},
   "outputs": [
    {
     "name": "stdout",
     "output_type": "stream",
     "text": [
      "('ing', 'bio', 'bci')\n"
     ]
    }
   ],
   "source": [
    "palabras = [\"ing\", \"bio\", \"bci\"]\n",
    "print(tuple(palabras))"
   ]
  },
  {
   "cell_type": "markdown",
   "id": "977d6306",
   "metadata": {},
   "source": [
    "##### Ejercicio 3.9\n",
    "\n",
    "Implemente una función que reciba una lista de elementos enteros, o flotantes, o strings (podría ser una lista con elementos del mismo tipo o bien una mezcla de estos) y retorne una lista con los elementos sin repetir.\n",
    "\n",
    "Como ejemplo, si la lista es *[1,2,3,4,5,5,6,7,7,1,2,8,9,9]* la función debe retornar *[1,2,3,4,5,6,7,8]*.\n",
    "\n",
    "La implementación de la función debe contener anotaciones y documentación apropiada."
   ]
  },
  {
   "cell_type": "code",
   "execution_count": 32,
   "id": "ea952473",
   "metadata": {},
   "outputs": [
    {
     "name": "stdout",
     "output_type": "stream",
     "text": [
      "[1, 2, 3, 'a', 4, 5, 6, 7, 8, 8.8, 9, 10]\n"
     ]
    }
   ],
   "source": [
    "## Resolución Ejercicio 3.9\n",
    "def sinrep(listaconrepe):\n",
    "    listasinrepe = [] \n",
    "    for i in listaconrepe:\n",
    "        if i not in listasinrepe:\n",
    "            listasinrepe.append(i)\n",
    "    return(listasinrepe)\n",
    "lista=[1,2,2,2,3,\"a\",4,5,1,6,7,5,6,8,5,\"a\",2,2,8.8,9,10,8.8]\n",
    "print(sinrep(lista))\n",
    "##TO DO"
   ]
  },
  {
   "cell_type": "markdown",
   "id": "91030ed9",
   "metadata": {},
   "source": [
    "##### Ejercicio 3.10\n",
    "\n",
    "Implemente una función que retorne un diccionario con los datos de un equipo médico. La función debe tener como parámetros fijos un nombre genérico del equipo y el área donde se encuentra, además de ser necesario, se le pasarán a la función una mayor cantidad de datos referentes al equipo. A modo de ejemplo el pasaje de argumentos puede ser,\n",
    "\n",
    "```Python\n",
    "equipo1 = datosEquipo(equipo = \"Respirador\", area = \"Neonatología\")\n",
    "\n",
    "equipo2 = datosEquipo(equipo = \"Respirador\", area = \"UCI\",\n",
    "                      coment = \"Alarma de presión de O2 no se apaga\",\n",
    "                      responsable = \"deja el equipo Mengano\")\n",
    "\n",
    "equipo3 = datosEquipo(equipo = \"Bomba infusión\", area = \"uti\",\n",
    "                      comentario = \"Necesitamos el equipo urgente\",\n",
    "                      falla = \"equipo no enciende o se apaga luego de algunas horas de uso\",\n",
    "                      personaResponsable = \"Dra. Sierra\",\n",
    "                      infoAdicional = \"No había nadie en biomédica\")\n",
    "```\n",
    "\n",
    "La implementación de la función debe contener anotaciones y documentación apropiada."
   ]
  },
  {
   "cell_type": "code",
   "execution_count": 6,
   "id": "09b8ae56",
   "metadata": {
    "scrolled": true
   },
   "outputs": [
    {
     "data": {
      "text/plain": [
       "{'comentario': 'Necesitamos el equipo urgente',\n",
       " 'falla': 'equipo no enciende o se apaga luego de algunas horas de uso',\n",
       " 'personaResponsable': 'Dra. Sierra',\n",
       " 'infoAdicional': 'No había nadie en biomédica',\n",
       " 'equipo': 'Bomba infusión',\n",
       " 'area': 'uti'}"
      ]
     },
     "execution_count": 6,
     "metadata": {},
     "output_type": "execute_result"
    }
   ],
   "source": [
    "## Resolución Ejercicio 3.10\n",
    "def datosEquipos(equipo, area, **datos):\n",
    "    \"\"\"Datos de equipo. Se puede agregar tantos datos como se quisiera luego del equipo y su lugar\"\"\"\n",
    "    datos[\"equipo\"] = equipo\n",
    "    datos[\"area\"] = area\n",
    "    return datos\n",
    "# equipo1 = datosEquipos(equipo = \"Respirador\", area = \"Neonatología\")\n",
    "\n",
    "\n",
    "\n",
    "# equipo1 = datosEquipos(equipo = \"Respirador\", area = \"Neonatología\")\n",
    "\n",
    "# equipo2 = datosEquipos(equipo = \"Respirador\", area = \"UCI\",\n",
    "#                     coment = \"Alarma de presión de O2 no se apaga\",\n",
    "#                     responsable = \"deja el equipo Mengano\")\n",
    "\n",
    "equipo3 = datosEquipos(equipo = \"Bomba infusión\", area = \"uti\",\n",
    "                    comentario = \"Necesitamos el equipo urgente\",\n",
    "                    falla = \"equipo no enciende o se apaga luego de algunas horas de uso\",\n",
    "                    personaResponsable = \"Dra. Sierra\",\n",
    "                    infoAdicional = \"No había nadie en biomédica\")\n",
    "\n",
    "# equipo1\n",
    "# equipo2\n",
    "equipo3\n",
    "\n",
    "##TO DO"
   ]
  },
  {
   "cell_type": "markdown",
   "id": "36015ec2",
   "metadata": {},
   "source": [
    "##### Ejercicio 3.11\n",
    "\n",
    "Implemente una función que calcule la raíz cuadrada de un número entero utilizando el método de aproximaciones de Newton, el cual es,\n",
    "\n",
    "\\begin{equation*}\n",
    "\\sqrt a = \\frac{x + \\frac{a}{x}}{2}\n",
    "\\end{equation*}\n",
    "\n",
    "Donde, \n",
    "\n",
    "- *x* es una *estimación* o *aproximación* conocida de la raíz cuadrada. En general puede asumirse *x = 1* o *x = a*.\n",
    "\n",
    "La función a implementar debe recibir,\n",
    "\n",
    "- Un número entero *a* para estimar su raíz cuadrada.\n",
    "- Un número entero *n* que representa la cantidad de iteraciones a realizar para aproximar la raíz de *a*. Por defecto hacer n = 10.\n",
    "\n",
    "La función debe retornar\n",
    "\n",
    "- Una lista con cada uno de los cálculos realizados en cada iteración\n",
    "- El valor calculado de la última iteración.\n",
    "- El valor de la raiz cuadrada de *a* utilizando el método *sqrt* de la librería *math* (para comparación).\n",
    "\n",
    "La implementación de la función debe contener anotaciones y documentación apropiada."
   ]
  },
  {
   "cell_type": "code",
   "execution_count": 60,
   "id": "fc28012e",
   "metadata": {},
   "outputs": [
    {
     "name": "stdout",
     "output_type": "stream",
     "text": [
      "Aproximación inicial:  7\n",
      "[7.785714285714286, 7.746068152031455, 7.745966693079303, 7.745966692414834, 7.745966692414834, 7.745966692414834, 7.745966692414834, 7.745966692414834, 7.745966692414834, 7.745966692414834]\n",
      "Valor de la ultima iteración:  7.745966692414834\n",
      "Según la libreria math:  7.745966692414834\n"
     ]
    }
   ],
   "source": [
    "## Resolución Ejercicio 3.11\n",
    "##TO DO\n",
    "import math as math\n",
    "def raiz (a,n=10):\n",
    "    aprox=a\n",
    "    listaprox=[]\n",
    "    for i in range(1,a):\n",
    "        if (i**2)<=a:\n",
    "            aprox=i\n",
    "    print(\"Aproximación inicial: \",aprox)\n",
    "    x=aprox\n",
    "    while n>0:\n",
    "        raiz=(x+a/x)/2\n",
    "        x=raiz\n",
    "        listaprox.append(x)\n",
    "        n=n-1\n",
    "    print(listaprox)\n",
    "    print(\"Valor de la ultima iteración: \",x)\n",
    "    print(\"Según la libreria math: \",math.sqrt(a))\n",
    "    \n",
    "raiz(60)\n",
    "        \n",
    "    "
   ]
  },
  {
   "cell_type": "markdown",
   "id": "37d063be",
   "metadata": {},
   "source": [
    "##### Ejercicio 3.12\n",
    "\n",
    "Implemente una función que reciba como parámetros un número *n* de diccionarios. Asuma que los diccionarios pasados como parámetros poseen un *key* y elementos numéricos (enteros o flotantes).\n",
    "\n",
    "La función debe retornar un diccionario nuevo con la suma de los elementos correspondientes a los keys iguales.\n",
    "\n",
    "Por ejemplo,\n",
    "\n",
    "```Python\n",
    "dic1 = {'key1': 10, 'key2': 20, 'key3':30}\n",
    "dic2 = {'key1': 30, 'key3': 20, 'key4':40}\n",
    "\n",
    "dic3 = miFunc(d1,d2)\n",
    "print(dic3)\n",
    "# El dic3 debe ser de la forma {'key1': 40, 'key2': 20, 'key3': 50, 'key4': 40}\n",
    "```"
   ]
  },
  {
   "cell_type": "code",
   "execution_count": 23,
   "id": "267a611e",
   "metadata": {},
   "outputs": [
    {
     "name": "stdout",
     "output_type": "stream",
     "text": [
      "{'key1': 100, 'key2': 40, 'key3': 90, 'key4': 60, 'key5': 40}\n"
     ]
    }
   ],
   "source": [
    "## Resolución Ejercicio 3.12\n",
    "##TO DO\n",
    "def sinrep(listaconrepe):\n",
    "    listasinrepe = [] \n",
    "    for i in listaconrepe:\n",
    "        if i not in listasinrepe:\n",
    "            listasinrepe.append(i)\n",
    "    return(listasinrepe)\n",
    "\n",
    "# def sumadic(d1,d2):\n",
    "#     keys=list(d1.keys())+list(d2.keys())\n",
    "#     keys=sinrep(keys)\n",
    "#     print(keys)\n",
    "#     dic3={}\n",
    "#     for i in keys:\n",
    "#         if d1.get(i)==None:\n",
    "#             d1[i]=0\n",
    "#         if d2.get(i)==None:\n",
    "#             d2[i]=0\n",
    "#     for i in keys:\n",
    "#         dic3[i]=d1.get(i)+d2.get(i)\n",
    "#     print(dic3)\n",
    "    \n",
    "def sumadic2(entrada):\n",
    "    keys=[]\n",
    "    for dics in entrada:\n",
    "        keys=keys+list(dics.keys())\n",
    "    keys=sinrep(keys)\n",
    "    dic3={}\n",
    "    for dics in entrada:\n",
    "        for i in keys:\n",
    "            if dics.get(i)==None:\n",
    "                dics[i]=0\n",
    "            dic3[i]=0\n",
    "    for dics in entrada:\n",
    "        for i in keys:\n",
    "            dic3[i]=dic3[i]+dics[i]\n",
    "    print(dic3)\n",
    "\n",
    "    \n",
    "        \n",
    "#     for i in keys:\n",
    "#         dic3[i]=d1.get(i)+d2.get(i)\n",
    "#     print(dic3)\n",
    "\n",
    "\n",
    "dic1 = {'key1': 10, 'key2': 20, 'key3':30}\n",
    "dic2 = {'key1': 30, 'key3': 20, 'key4':40}\n",
    "dic3 = {'key1': 30, 'key4': 20, 'key5':40}\n",
    "dic4 = {'key1': 30, 'key2': 20, 'key3':40}\n",
    "\n",
    "listadic=[dic1,dic2,dic3,dic4]\n",
    "#le pasamos una lista con los n diccionarios\n",
    "sumadic2(listadic)"
   ]
  },
  {
   "cell_type": "markdown",
   "id": "c953298e",
   "metadata": {},
   "source": [
    "##### Ejercicio 3.13\n",
    "\n",
    "Implemente una función que reciba como parámetro el nombre de un archivo de texto *.txt* y retorne un diccionario en donde los *keys* estarán formados por cada palabra dentro del archivo y los *elementos* serán las veces que la palabra en cuestión se repite dentro del texto.\n",
    "\n",
    "Considere lo siguiente.\n",
    "\n",
    "- Descartar símbolos y caracteres. Asuma que el texto solo puede contener los siguientes caracteres y símbolos:\n",
    " - _ (guión bajo), - (guión medio).\n",
    " - , (coma) y . (punto).\n",
    " - ¿, ?, ¡, ! (signos de interrogación y exlamación).\n",
    "- Todas las palabras retornadas en el diccionario deben estar en minúsculas.\n",
    "\n",
    "Ejemplo\n",
    "\n",
    "```Python\n",
    "## supogamos que el archivo texto.txt contiene lo siguiente\n",
    "## \"Hola mundo. Hola mundo!!!\"\n",
    "\n",
    "diccionario = makeDict(\"texto.txt\")\n",
    "#El diccionario retornado debe ser similar a {\"hola\": 2, \"mundo\": 2}\n",
    "```\n",
    "\n",
    "NOTA: Utilice la función [*open()*](https://docs.python.org/3/library/functions.html#open) para cargar el archivo.\n",
    "\n",
    "La implementación de la función debe contener anotaciones y documentación apropiada."
   ]
  },
  {
   "cell_type": "code",
   "execution_count": 48,
   "id": "c87340e9",
   "metadata": {},
   "outputs": [
    {
     "name": "stdout",
     "output_type": "stream",
     "text": [
      "{'mundo': 2, 'hola': 2}\n"
     ]
    }
   ],
   "source": [
    "## Resolución Ejercicio 3.13\n",
    "def archivotexto(archivo):\n",
    "    diccionario={}\n",
    "    f = open(archivo, \"r\")\n",
    "    texto=list((f.read()))\n",
    "    nuevotexto=[]\n",
    "    for valores in texto:\n",
    "        if (valores!='\"' and valores!=\"-\" and valores!=\"_\" and valores!=\",\" and valores!=\".\" and valores!=\"!\" and valores!=\"¿\" and valores!=\"?\" and valores!=\"?\"):\n",
    "            nuevotexto.append(valores)\n",
    "    nuevotexto=\"\".join(nuevotexto)\n",
    "    nuevotexto=nuevotexto.lower()\n",
    "    separadotexto=nuevotexto.split(\" \")\n",
    "    separadotexto2=set(separadotexto)\n",
    "    for i in separadotexto2:\n",
    "        a=list(separadotexto).count(i)\n",
    "        diccionario[i]=a\n",
    "    print(diccionario)\n",
    "    \n",
    "    \n",
    "    \n",
    "archivotexto(\"texto.txt\")\n",
    "##TO DO"
   ]
  },
  {
   "cell_type": "markdown",
   "id": "c552bc2a",
   "metadata": {},
   "source": [
    "<hr style=\"border:1px solid gray\"> </hr>\n",
    "\n",
    "##  <span style='color:#3A40A2 '>FIN</span>"
   ]
  }
 ],
 "metadata": {
  "interpreter": {
   "hash": "341b29a86feb41683388a2350ede9b29bff08e5e019b1f08826cb582c6a8c162"
  },
  "kernelspec": {
   "display_name": "Python 3 (ipykernel)",
   "language": "python",
   "name": "python3"
  },
  "language_info": {
   "codemirror_mode": {
    "name": "ipython",
    "version": 3
   },
   "file_extension": ".py",
   "mimetype": "text/x-python",
   "name": "python",
   "nbconvert_exporter": "python",
   "pygments_lexer": "ipython3",
   "version": "3.9.7"
  }
 },
 "nbformat": 4,
 "nbformat_minor": 5
}
