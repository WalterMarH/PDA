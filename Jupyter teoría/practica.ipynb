{
 "cells": [
  {
   "cell_type": "markdown",
   "id": "ba4bbe60",
   "metadata": {},
   "source": [
    "# <center> <span style='color:#23689B'>Ejercitación durante teoría</span></center>\n",
    "\n",
    "Módulo 6 - Parte teórica\n",
    "\n",
    "**Profesor Adjunto:** Mag. Bioing. Baldezzari Lucas\n",
    "\n",
    "<p style='text-align: left;'> V2022 </p>\n",
    "\n",
    "<hr style=\"border:1px solid gray\"> </hr>"
   ]
  },
  {
   "cell_type": "markdown",
   "id": "bd995a61",
   "metadata": {},
   "source": [
    "<hr style=\"border:1px solid #16C79A\"> </hr>\n",
    "\n",
    "## <span style='color:#16C79A'>1. Trabajando con matrices de Sodoku</span>\n",
    "\n",
    "Dispone de dos listas que se muestran debajo."
   ]
  },
  {
   "cell_type": "code",
   "execution_count": 3,
   "id": "dc7de976",
   "metadata": {},
   "outputs": [],
   "source": [
    "juegoSodoku= [[0, 0, 4, 3, 0, 0, 2, 0, 9],\n",
    "             [0, 0, 5, 0, 0, 9, 0, 0, 1],\n",
    "             [0, 7, 0, 0, 6, 0, 0, 4, 3],\n",
    "             [0, 0, 6, 0, 0, 2, 0, 8, 7],\n",
    "             [1, 9, 0, 0, 0, 7, 4, 0, 0],\n",
    "             [0, 5, 0, 0, 8, 3, 0, 0, 0],\n",
    "             [6, 0, 0, 0, 0, 0, 1, 0, 5],\n",
    "             [0, 0, 3, 5, 0, 8, 6, 9, 0],\n",
    "             [0, 4, 2, 9, 1, 0, 3, 0, 0]]\n",
    "\n",
    "solutionSodoku =   [[8, 6, 4, 3, 7, 1, 2, 5, 9],\n",
    "                   [3, 2, 5, 8, 4, 9, 7, 6, 1],\n",
    "                   [9, 7, 1, 2, 6, 5, 8, 4, 3],\n",
    "                   [4, 3, 6, 1, 9, 2, 5, 8, 7],\n",
    "                   [1, 9, 8, 6, 5, 7, 4, 3, 2],\n",
    "                   [2, 5, 7, 4, 8, 3, 9, 1, 6],\n",
    "                   [6, 8, 9, 7, 3, 4, 1, 2, 5],\n",
    "                   [7, 1, 3, 5, 2, 8, 6, 9, 4],\n",
    "                   [5, 4, 2, 9, 1, 6, 3, 7, 8]]"
   ]
  },
  {
   "cell_type": "markdown",
   "id": "0a164976",
   "metadata": {},
   "source": [
    "#### Ejercicio 1.1\n",
    "\n",
    "A partir de las listas *juegoSodoku* y *solutionSodoku* debe,\n",
    "\n",
    "- Importar numpy como np\n",
    "- Convertir las listas mencionadas en *ndarray* como enteros de 8 bits.\n",
    "- Imprimir en pantalla las dimenciones y la cantidad de bytes que ocupan cada array."
   ]
  },
  {
   "cell_type": "code",
   "execution_count": 1,
   "id": "80c4df57",
   "metadata": {},
   "outputs": [
    {
     "ename": "NameError",
     "evalue": "name 'juegoSodoku' is not defined",
     "output_type": "error",
     "traceback": [
      "\u001b[1;31m---------------------------------------------------------------------------\u001b[0m",
      "\u001b[1;31mNameError\u001b[0m                                 Traceback (most recent call last)",
      "\u001b[1;32m~\\AppData\\Local\\Temp/ipykernel_8492/118131265.py\u001b[0m in \u001b[0;36m<module>\u001b[1;34m\u001b[0m\n\u001b[0;32m      3\u001b[0m \u001b[1;33m\u001b[0m\u001b[0m\n\u001b[0;32m      4\u001b[0m \u001b[1;32mimport\u001b[0m \u001b[0mnumpy\u001b[0m \u001b[1;32mas\u001b[0m \u001b[0mnp\u001b[0m\u001b[1;33m\u001b[0m\u001b[1;33m\u001b[0m\u001b[0m\n\u001b[1;32m----> 5\u001b[1;33m \u001b[0mnpjuegoSodoku\u001b[0m \u001b[1;33m=\u001b[0m \u001b[0mnp\u001b[0m\u001b[1;33m.\u001b[0m\u001b[0marray\u001b[0m\u001b[1;33m(\u001b[0m\u001b[0mjuegoSodoku\u001b[0m\u001b[1;33m,\u001b[0m\u001b[0mdtype\u001b[0m \u001b[1;33m=\u001b[0m \u001b[0mnp\u001b[0m\u001b[1;33m.\u001b[0m\u001b[0mint8\u001b[0m\u001b[1;33m)\u001b[0m\u001b[1;33m\u001b[0m\u001b[1;33m\u001b[0m\u001b[0m\n\u001b[0m\u001b[0;32m      6\u001b[0m \u001b[0mnpsolutionSodoku\u001b[0m \u001b[1;33m=\u001b[0m \u001b[0mnp\u001b[0m\u001b[1;33m.\u001b[0m\u001b[0marray\u001b[0m\u001b[1;33m(\u001b[0m\u001b[0msolutionSodoku\u001b[0m\u001b[1;33m,\u001b[0m\u001b[0mdtype\u001b[0m \u001b[1;33m=\u001b[0m \u001b[0mnp\u001b[0m\u001b[1;33m.\u001b[0m\u001b[0mint8\u001b[0m\u001b[1;33m)\u001b[0m\u001b[1;33m\u001b[0m\u001b[1;33m\u001b[0m\u001b[0m\n\u001b[0;32m      7\u001b[0m \u001b[0mprint\u001b[0m\u001b[1;33m(\u001b[0m\u001b[0mnpsolutionSodoku\u001b[0m\u001b[1;33m.\u001b[0m\u001b[0mshape\u001b[0m\u001b[1;33m)\u001b[0m\u001b[1;33m\u001b[0m\u001b[1;33m\u001b[0m\u001b[0m\n",
      "\u001b[1;31mNameError\u001b[0m: name 'juegoSodoku' is not defined"
     ]
    }
   ],
   "source": [
    "## Ejercicio 1.1\n",
    "## TODO\n",
    "\n",
    "import numpy as np\n",
    "npjuegoSodoku = np.array(juegoSodoku,dtype = np.int8)\n",
    "npsolutionSodoku = np.array(solutionSodoku,dtype = np.int8)\n",
    "print(npsolutionSodoku.shape)\n",
    "print(npjuegoSodoku.shape)\n",
    "print(npsolutionSodoku.nbytes)\n",
    "print(npjuegoSodoku.nbytes)\n",
    "\n",
    "\n"
   ]
  },
  {
   "cell_type": "markdown",
   "id": "c958d5f9",
   "metadata": {},
   "source": [
    "#### Ejercicio 1.2\n",
    "\n",
    "Crear un array 3D llamado juegoSol a partir de los dos array previamente creados. Imprimir las dimensiones del array para chequear que sean de tres dimensiones."
   ]
  },
  {
   "cell_type": "code",
   "execution_count": 9,
   "id": "269963e4",
   "metadata": {},
   "outputs": [
    {
     "data": {
      "text/plain": [
       "array([[[0, 0, 4, 3, 0, 0, 2, 0, 9],\n",
       "        [0, 0, 5, 0, 0, 9, 0, 0, 1],\n",
       "        [0, 7, 0, 0, 6, 0, 0, 4, 3],\n",
       "        [0, 0, 6, 0, 0, 2, 0, 8, 7],\n",
       "        [1, 9, 0, 0, 0, 7, 4, 0, 0],\n",
       "        [0, 5, 0, 0, 8, 3, 0, 0, 0],\n",
       "        [6, 0, 0, 0, 0, 0, 1, 0, 5],\n",
       "        [0, 0, 3, 5, 0, 8, 6, 9, 0],\n",
       "        [0, 4, 2, 9, 1, 0, 3, 0, 0]],\n",
       "\n",
       "       [[8, 6, 4, 3, 7, 1, 2, 5, 9],\n",
       "        [3, 2, 5, 8, 4, 9, 7, 6, 1],\n",
       "        [9, 7, 1, 2, 6, 5, 8, 4, 3],\n",
       "        [4, 3, 6, 1, 9, 2, 5, 8, 7],\n",
       "        [1, 9, 8, 6, 5, 7, 4, 3, 2],\n",
       "        [2, 5, 7, 4, 8, 3, 9, 1, 6],\n",
       "        [6, 8, 9, 7, 3, 4, 1, 2, 5],\n",
       "        [7, 1, 3, 5, 2, 8, 6, 9, 4],\n",
       "        [5, 4, 2, 9, 1, 6, 3, 7, 8]]], dtype=int8)"
      ]
     },
     "execution_count": 9,
     "metadata": {},
     "output_type": "execute_result"
    }
   ],
   "source": [
    "## Ejercicio 1.2\n",
    "## TODO\n",
    "\n",
    "juegoSol =np.array([juegoSodoku,solutionSodoku],dtype = np.int8)\n",
    "juegoSol"
   ]
  },
  {
   "cell_type": "markdown",
   "id": "6afb7dd8",
   "metadata": {},
   "source": [
    "#### Ejercicio 1.3\n",
    "\n",
    "- Cree un array que contenga valores de 5 a 10 con 50 valores equiespaciados.\n",
    "- Cree un array que contenva valores de 0 a 100 inclusive separados de a 2."
   ]
  },
  {
   "cell_type": "code",
   "execution_count": 10,
   "id": "90a1eb52",
   "metadata": {},
   "outputs": [
    {
     "name": "stdout",
     "output_type": "stream",
     "text": [
      "[ 5.          5.10204082  5.20408163  5.30612245  5.40816327  5.51020408\n",
      "  5.6122449   5.71428571  5.81632653  5.91836735  6.02040816  6.12244898\n",
      "  6.2244898   6.32653061  6.42857143  6.53061224  6.63265306  6.73469388\n",
      "  6.83673469  6.93877551  7.04081633  7.14285714  7.24489796  7.34693878\n",
      "  7.44897959  7.55102041  7.65306122  7.75510204  7.85714286  7.95918367\n",
      "  8.06122449  8.16326531  8.26530612  8.36734694  8.46938776  8.57142857\n",
      "  8.67346939  8.7755102   8.87755102  8.97959184  9.08163265  9.18367347\n",
      "  9.28571429  9.3877551   9.48979592  9.59183673  9.69387755  9.79591837\n",
      "  9.89795918 10.        ]\n",
      "[ 0  2  4  6  8 10 12 14 16 18 20 22 24 26 28 30 32 34 36 38 40 42 44 46\n",
      " 48 50 52 54 56 58 60 62 64 66 68 70 72 74 76 78 80 82 84 86 88 90 92 94\n",
      " 96 98]\n"
     ]
    }
   ],
   "source": [
    "## Ejercicio 1.3\n",
    "linea1 = np.linspace(5,10, num = 50)\n",
    "puntos2 = np.arange(0,100,2)\n",
    "\n",
    "print(linea1)\n",
    "\n",
    "print(puntos2)\n",
    "## TODO"
   ]
  },
  {
   "cell_type": "markdown",
   "id": "337fe565",
   "metadata": {},
   "source": [
    "<hr style=\"border:1px solid #16C79A\"> </hr>\n",
    "\n",
    "## <span style='color:#16C79A'>2. Chopeando señales y calculando tiempos de ejecición</span>\n",
    "\n",
    "A) Cargue en una lista la señal de fotoplestimografía vistas en clases anteriores, a partir de esta genere otra lista formada por trozos de duración de dos segundos a partir de la señal original. Para llevar a cabo lo solicitado utilice blucles *for* y con *%%time* mida el tiempo que le lleva hacer esto.\n",
    "\n",
    "B) Realice lo mismo que el punto A pero esta vez cargue los datos de la señal de fotoplestimografía en un numpy.array y utilice reshape() para redimensionar el array original con trozos con una duración de $2$ segundos. Utilice la función *%%time* para medir el tiempo de ejecución de esta segunda implementación.\n",
    "\n",
    "##### Ejemplo uso %%time\n",
    "\n",
    "Si quisieramos medir el tiempo que le lleva (en una PC en particular) a Python para recorrer un array de un millon de valores y elevar al cuadrado cada elemento podríamos hacer en una celda de Jupyter Notebook lo siguiente en una celda,\n",
    "\n",
    "```Python\n",
    "%%time\n",
    "lista = [*range(1,1000000)]\n",
    "for i in range(len(lista)):\n",
    "    lista[i]**2\n",
    "```"
   ]
  },
  {
   "cell_type": "code",
   "execution_count": 5,
   "id": "9347dee3",
   "metadata": {},
   "outputs": [
    {
     "name": "stdout",
     "output_type": "stream",
     "text": [
      "Wall time: 24 ms\n"
     ]
    }
   ],
   "source": [
    "%%time\n",
    "## TODO A)\n",
    "archivo2=open(\"files/pleth.txt\", \"r\")\n",
    "archivo3=archivo2.read().split()\n",
    "listanueva=[]\n",
    "listanuev1a=[]\n",
    "a=int(0)\n",
    "b=int(125)\n",
    "for c in range(0,241):\n",
    "    for i in archivo3[a:b]:\n",
    "        listanuev1a.append(i)\n",
    "    listanueva.append(listanuev1a)\n",
    "    a+=125\n",
    "    b+=125\n",
    "#nueva=np.array(listanueva)\n",
    "\n"
   ]
  },
  {
   "cell_type": "code",
   "execution_count": 16,
   "id": "5f3df596",
   "metadata": {},
   "outputs": [],
   "source": [
    "## TODO B)"
   ]
  },
  {
   "cell_type": "markdown",
   "id": "d3f0e8b5",
   "metadata": {},
   "source": [
    "<hr style=\"border:1px solid #16C79A\"> </hr>\n",
    "\n",
    "## <span style='color:#16C79A'>3. Censo de arboles de Nueva York</span>\n",
    "\n",
    "Suponga que esta haciendo un trabajo de investigación con datos del [censo de arboles de la ciudad de Nueva York](https://www.nycgovparks.org/trees/treescount). Usted dispone de un archivo llamado *tree_census.npy* (el cual se carga en la siguiente celda). A fines práctico, el set de datos corresponde a una pequeña parte de los [datos originales](https://www.kaggle.com/datasets/nycparks/tree-census).\n",
    "\n",
    "Cada fila dentro de los datos del archivo *tree_census.npy* corresponde a un arbol diferente. Cada columna representa, de izquierda a derecha,\n",
    "\n",
    "- ID del arbol.\n",
    "- ID del bloque donde se encuentra.\n",
    "- Diámetro del tronco.\n",
    "- Diámetro de tronco *cortado*.\n",
    "\n",
    "Es importante el orden de las columnas, ya que Numpy no tiene información acerca de los nombres de las columnas (esto lo solucionaremos con Pandas).\n",
    "\n",
    "A continuación se carga el archivo *tree_census.npy* y se muestran la información de los primeros 5 arboles."
   ]
  },
  {
   "cell_type": "code",
   "execution_count": 6,
   "id": "86e2be8f",
   "metadata": {},
   "outputs": [
    {
     "name": "stdout",
     "output_type": "stream",
     "text": [
      "[[     3 501451     24      0]\n",
      " [     4 501451     20      0]\n",
      " [     7 501911      3      0]\n",
      " [     8 501911      3      0]\n",
      " [     9 501911      4      0]]\n"
     ]
    }
   ],
   "source": [
    "import numpy as np\n",
    "with open(\"files/tree_census.npy\", \"rb\") as f:\n",
    "    treeInfo = np.load(f)\n",
    "\n",
    "print(treeInfo[:5,:])"
   ]
  },
  {
   "cell_type": "markdown",
   "id": "f99af769",
   "metadata": {},
   "source": [
    "**Nota:** Los valores *0* en la última columna, pertenecientes a los diametros de troncos cortados (sutump trunks) corresponden a arboles vivos, de ahí que sus diametros sean ceros."
   ]
  },
  {
   "cell_type": "markdown",
   "id": "f6e1e682",
   "metadata": {},
   "source": [
    "##### Ejercicio 3.1\n",
    "\n",
    "En esta primera parte se trabajará solamente con la segunda columna del set de datos, la cual representa el ID del bloque. \n",
    "\n",
    "Se le pide,\n",
    "\n",
    "- Seleccione todas las filas correspondientes a la columnda de los IDs de bloques.\n",
    "- Imprima los primeros 4 IDs."
   ]
  },
  {
   "cell_type": "code",
   "execution_count": 7,
   "id": "9cc83e86",
   "metadata": {},
   "outputs": [],
   "source": [
    "## TODO Ejercicio 3.1\n",
    "bloquesIDs = __"
   ]
  },
  {
   "cell_type": "markdown",
   "id": "64d88e2f",
   "metadata": {},
   "source": [
    "- Seleccione el 10mo ID dentro de bloquesIDs.\n",
    "- Imprima el ID."
   ]
  },
  {
   "cell_type": "code",
   "execution_count": 8,
   "id": "ca2bb306",
   "metadata": {},
   "outputs": [],
   "source": [
    "## Seleccione el 10mo ID dentro de bloquesIDs\n",
    "decimoBlockID = __"
   ]
  },
  {
   "cell_type": "markdown",
   "id": "814d2039",
   "metadata": {},
   "source": [
    "- Realice un slice de cinco IDs de bloque a partir de bloquesIDs, empezando con el 10mo bloque.\n",
    "- Imprima el slice realizado."
   ]
  },
  {
   "cell_type": "code",
   "execution_count": 9,
   "id": "66d2d9df",
   "metadata": {},
   "outputs": [],
   "source": [
    "sliceBloquesIDs = ___"
   ]
  },
  {
   "cell_type": "markdown",
   "id": "de036850",
   "metadata": {},
   "source": [
    "##### Ejercicio 3.2\n",
    "\n",
    "Ahora se trabajará con la columna de los dipametros de troncos.\n",
    "\n",
    "- Cree un array que contenga los primeros 100 diametros de tronco del set de datos en *treeInfo*.\n",
    "- Cree un array con los diametros de tronco desde el 50 hasta el 100 (incluyéndolo) correspondientes a las filas pares dentro de *treeInfo*."
   ]
  },
  {
   "cell_type": "code",
   "execution_count": 10,
   "id": "aba1b4f0",
   "metadata": {},
   "outputs": [],
   "source": [
    "primerosCien = ___\n",
    "troncosPares = ___"
   ]
  },
  {
   "cell_type": "markdown",
   "id": "957705f2",
   "metadata": {},
   "source": [
    "##### Ejercicio 3.3\n",
    "\n",
    "Utilizando la función [*numpy.sort()*](https://numpy.org/doc/stable/reference/generated/numpy.sort.html) cree una nueva matriz que contenga los datos de *treeInfo* ordenados de menor a mayor considerando los diámetros de los troncos."
   ]
  },
  {
   "cell_type": "code",
   "execution_count": 11,
   "id": "0d237d8c",
   "metadata": {},
   "outputs": [],
   "source": [
    "sortedByTrunks = ___"
   ]
  },
  {
   "cell_type": "markdown",
   "id": "b299ad01",
   "metadata": {},
   "source": [
    "### <span style='color:#F5A211'>Filtrando datos</span>\n",
    "\n",
    "##### Ejercicio 3.4\n",
    "\n",
    "- Usando indexación Booleana, cree un array que contenga los datos de la fila completa de *treeInfo* correspondiente al arbol con diametro de tronco igual a 51."
   ]
  },
  {
   "cell_type": "code",
   "execution_count": 12,
   "id": "e6adad87",
   "metadata": {},
   "outputs": [],
   "source": [
    "mask = treeInfo[:,2] == 51\n",
    "infoTronco51 = treeInfo[mask]"
   ]
  },
  {
   "cell_type": "markdown",
   "id": "67ef78eb",
   "metadata": {},
   "source": [
    "- A partir de la info extraída del arbol con diámetro de tronco igual a 51 genere un slice que contenga sólo el ID de dicho arbol."
   ]
  },
  {
   "cell_type": "code",
   "execution_count": 13,
   "id": "9189fa48",
   "metadata": {},
   "outputs": [
    {
     "data": {
      "text/plain": [
       "array([501882], dtype=int64)"
      ]
     },
     "execution_count": 13,
     "metadata": {},
     "output_type": "execute_result"
    }
   ],
   "source": [
    "IDBlockTronco51 = infoTronco51[:,1]\n",
    "IDBlockTronco51"
   ]
  },
  {
   "cell_type": "markdown",
   "id": "56d03f54",
   "metadata": {},
   "source": [
    "- Utilizando *fancy indexing* cree un array que contenga todos los arboles que poseean el mismo ID de bloque que el arbol con diámetro de tronco igual a 51."
   ]
  },
  {
   "cell_type": "code",
   "execution_count": 14,
   "id": "6e8d1e51",
   "metadata": {},
   "outputs": [],
   "source": [
    "mask = ___\n",
    "arbolesCerca51 = ___"
   ]
  },
  {
   "cell_type": "markdown",
   "id": "2fa1416e",
   "metadata": {},
   "source": [
    "- Genere una matriz que contenga los IDs y los diámetros de tronco correspondientes a los árboles con diámetros entre 20 y 51 inclusive."
   ]
  },
  {
   "cell_type": "code",
   "execution_count": 15,
   "id": "4fa9c30d",
   "metadata": {},
   "outputs": [],
   "source": [
    "shortTreeInfo = ___"
   ]
  },
  {
   "cell_type": "markdown",
   "id": "126f62da",
   "metadata": {},
   "source": [
    "##### Ejercicio 3.5 - Fancy indexing vs np.where()\n",
    "\n",
    "- Usando filtrado por máscara (fancy indexing) cree un array el cual contenga solamente datos de los arboles del bloque 313879.\n",
    "\n",
    "- Usando np.where() cree un array de índices para los arboles con ID de bloque igual a 313879. Luego utilice este arreglo de índices para crear un array que contega información de los arboles del bloque 313879."
   ]
  },
  {
   "cell_type": "code",
   "execution_count": 16,
   "id": "9d29d452",
   "metadata": {},
   "outputs": [],
   "source": [
    "## TODO - Ejercicio 3.5"
   ]
  },
  {
   "cell_type": "markdown",
   "id": "65fc0113",
   "metadata": {},
   "source": [
    "##### Ejercicio 3.6 - Reemplazando datos en el array\n",
    "\n",
    "- Crear e imprimir un array 1D el cual reemplace los diámetros de tronco por los diametros de tronco cortado (stump trunk) en el caso de que el diámetro del tronco sea cero.\n",
    "\n",
    "*Hint*: Utilice np.where()."
   ]
  },
  {
   "cell_type": "markdown",
   "id": "9add586e",
   "metadata": {},
   "source": [
    "<hr style=\"border:1px solid #16C79A\"> </hr>\n",
    "\n",
    "## <span style='color:#16C79A'>4. Summarizing datos de un array</span>\n",
    "\n",
    "Para este ejercicio se trabajará con un pequeño data set correspondientes a las ventas mensuales, desde enero a diciembre de tres industrias diferentes. Cada fila es una *venta mensual* correspondiente a un mes para cada industria. La primer columna corresponde a industria de bebida, la segunda a restaurantes y la tercera a shoppings.\n",
    "\n",
    "En la siguiente celda se cargan los datos en un array llamado *ventasAnuales*."
   ]
  },
  {
   "cell_type": "code",
   "execution_count": 17,
   "id": "b2df3c4c",
   "metadata": {},
   "outputs": [],
   "source": [
    "import numpy as np\n",
    "\n",
    "ventasAnuales = np.array(  [[ 4134, 23925,  8657],\n",
    "                           [ 4116, 23875,  9142],\n",
    "                           [ 4673, 27197, 10645],\n",
    "                           [ 4580, 25637, 10456],\n",
    "                           [ 5109, 27995, 11299],\n",
    "                           [ 5011, 27419, 10625],\n",
    "                           [ 5245, 27305, 10630],\n",
    "                           [ 5270, 27760, 11550],\n",
    "                           [ 4680, 24988,  9762],\n",
    "                           [ 4913, 25802, 10456],\n",
    "                           [ 5312, 25405, 13401],\n",
    "                           [ 6630, 27797, 18403]])"
   ]
  },
  {
   "cell_type": "markdown",
   "id": "7b5fe4c7",
   "metadata": {},
   "source": [
    "##### Ejercicio 4.1 - Ventas totales en cada mes\n",
    "\n",
    "- Obtenga un array 2D que este formado por una sola columna con las ventas de cada industria en cada mes. Llame a este array *ventasMensuales*. \n",
    "- A partir de *ventasMensuales* agregue una columna al array *ventasMensuales* utilizando *numpy.concatenate()* y guarde esta nueva matriz en una variable llamada *ventasMenYTotales*.\n",
    "\n",
    "*Hint*: Utilice *keepdims = True* en su función."
   ]
  },
  {
   "cell_type": "code",
   "execution_count": 18,
   "id": "60dd4395",
   "metadata": {},
   "outputs": [],
   "source": [
    "ventasMensuales = ___\n",
    "ventasMenYTotales = ___"
   ]
  },
  {
   "cell_type": "markdown",
   "id": "5baa9402",
   "metadata": {},
   "source": [
    "##### Ejercicio 4.2 - Promedio de ventas\n",
    "\n",
    "- Crear un array 1D llamado promedioVenMensuales que contenga el promedio de ventas de cada industria en los 12 meses.\n",
    "- Crear un array 1D llamado promedioVenShopping que contenga las ventas mensuales de los shopings."
   ]
  },
  {
   "cell_type": "code",
   "execution_count": 19,
   "id": "9fdee792",
   "metadata": {},
   "outputs": [],
   "source": [
    "promedioVenMensuales = ___\n",
    "promedioVenShopping = ___\n",
    "\n",
    "## Descomente las lineas para graficar\n",
    "# import matplotlib.pyplot as plt\n",
    "# plt.plot(np.arange(1,13), promedioVenMensuales, label=\"Promedio de ventas para cada industria\")\n",
    "# plt.show()\n",
    " \n",
    "## Plot department store sales by month\n",
    "# plt.plot(np.arange(1,13), promedioVenMensuales[:,2], label=\"Department store sales\")\n",
    "# plt.legend()\n",
    "# plt.show()"
   ]
  },
  {
   "cell_type": "markdown",
   "id": "00634a91",
   "metadata": {},
   "source": [
    "##### Ejercicio 4.3 - Suma acumulada\n",
    "\n",
    "- Genere un array llamado *ventasAcumuladas* que contenga las sumas acumuladas de las ventans mensuales de cada industria a lo largo de todo el año."
   ]
  },
  {
   "cell_type": "code",
   "execution_count": 20,
   "id": "5d4e3428",
   "metadata": {},
   "outputs": [],
   "source": [
    "ventasAcumuladas = ___\n",
    "\n",
    "# ## Descomente las lineas para graficar\n",
    "# plt.plot(np.arange(1, 13), ventasAcumuladas[:,0], label=\"Tiendas de bebida\")\n",
    "# plt.plot(np.arange(1, 13), ventasAcumuladas[:,1], label=\"Restaurantes\")\n",
    "# plt.plot(np.arange(1, 13), ventasAcumuladas[:,2], label=\"Shoppings\")\n",
    "# plt.legend()\n",
    "# plt.show()"
   ]
  },
  {
   "cell_type": "markdown",
   "id": "7be18501",
   "metadata": {},
   "source": [
    "- Cree un array 2D llamado *impuestos* que sea el resultado de multiplicar cada elemento del array *ventasAnuales* por $0.05$.\n",
    "- Imprima los impuestos pagados por los restaurantes en los meses que van de febrero a julio."
   ]
  },
  {
   "cell_type": "code",
   "execution_count": 21,
   "id": "8817ba03",
   "metadata": {},
   "outputs": [],
   "source": [
    "impuestos = __"
   ]
  },
  {
   "cell_type": "markdown",
   "id": "57e0be7b",
   "metadata": {},
   "source": [
    "- Cree un array 2D llamado *totalesAnuales* que sea el resultado de sumar *ventasAnuales* e *impuestos* ."
   ]
  },
  {
   "cell_type": "markdown",
   "id": "b71f4a35",
   "metadata": {},
   "source": [
    "### <span style='color:#F5A211'>Proyectando ventas</span>\n",
    "\n",
    "Se dispone de una lista llamada *listaMulti* que contiene valores correspondientes a las proyecciones de venta para los meses del siguiente año de cada industria.\n",
    "\n",
    "Por ejemplo, un valor de 0.98 en enero para la industria de bebidas indica que se espera tener un 98% de las ventas de enero acutal en enero del año que viene."
   ]
  },
  {
   "cell_type": "code",
   "execution_count": 22,
   "id": "dde99b2a",
   "metadata": {},
   "outputs": [],
   "source": [
    "listaMulti =   [[0.98, 1.02, 1.],\n",
    "               [1.00, 1.01, 0.97],\n",
    "               [1.06, 1.03, 0.98],\n",
    "               [1.08, 1.01, 0.98],\n",
    "               [1.08, 0.98, 0.98],\n",
    "               [1.1 , 0.99, 0.99],\n",
    "               [1.12, 1.01, 1.  ],\n",
    "               [1.1 , 1.02, 1.  ],\n",
    "               [1.11, 1.01, 1.01],\n",
    "               [1.08, 0.99, 0.97],\n",
    "               [1.09, 1.  , 1.02],\n",
    "               [1.13, 1.03, 1.02]]"
   ]
  },
  {
   "cell_type": "markdown",
   "id": "6c43e0df",
   "metadata": {},
   "source": [
    "##### Ejercicio 4.4\n",
    "\n",
    "- Cree un array llamado *multiplicadores* a partir de listaMulti. \n",
    "- Cree un nuevo array llamado *proyecciones* el cual contiene los valores de ventas proyectados resultado de multiplicar *ventasAnuales* con *multiplicadores*."
   ]
  },
  {
   "cell_type": "code",
   "execution_count": 23,
   "id": "1e982cb8",
   "metadata": {},
   "outputs": [],
   "source": [
    "multiplicadores = ___\n",
    "proyecciones = ___\n",
    "\n",
    "# ## Descomente las lineas para graficar\n",
    "# plt.plot(np.arange(1,13), ventasAnuales[:,1], label=\"Ventas actuales de restaurantes\")\n",
    "# plt.plot(np.arange(1,13), proyecciones[:,1], label=\"Ventas proyectadas de restaurantes\")\n",
    "# plt.legend()\n",
    "# plt.show()"
   ]
  },
  {
   "cell_type": "markdown",
   "id": "a7e944d7",
   "metadata": {},
   "source": [
    "<hr style=\"border:1px solid #16C79A\"> </hr>\n",
    "\n",
    "## <span style='color:#16C79A'>5. Broadcasting entre arrays</span>\n",
    "\n",
    "Se dene tener en cuenta que cuando queremos realizar un broadcasting a lo largo de las columnas de un array, debemos pasarle a Numpy un array 2D, ¿por qué? La razón es que debemos tener un array que contenga datos *verticales*, o lo que sería lo mismo, *un vector columna*. Cuando el shape de un array es de la forma (n,), Numpy no puede discriminar si el array es Columna o Fila, y de hecho, como hemos mencionado en teoría, Numpy por defecto toma los broadcasting de arrays a lo largo de las filas.\n",
    "\n",
    "Por lo tanto, si quisieramos tener un vector columna de $n$ datos debemos hacer que nuestro array tenga el shape **(n,1)**.\n",
    "\n",
    "A Python list called monthly_growth_rate with len() of 12 is available. This list represents monthly year-over-year expected growth for the economy; your task is to use broadcasting to multiply this list by each column in the monthly_sales array. The monthly_sales array is loaded, along with numpy as np."
   ]
  },
  {
   "cell_type": "markdown",
   "id": "5d025457",
   "metadata": {},
   "source": [
    "##### Ejercicio 5.1 - Broadcasting a lo largo de columnas\n",
    "\n",
    "Se dispone de una lista llamada *valoresCrecimiento* de len() igual a 12. Esta lista representa el crecimiento esperado mes a mes para las industrias vistas en el ejercicio 4.\n",
    "\n",
    "- Convierta la lista *valoresCrecimiento* en un array llamado *crecimientoMensual* de tal manera que se pueda calcular el crecimiento de un año al otro de las industrias del ejercicio 4. Para esto, deberá multiplicar *ventasAnuales* con *crecimientoMensual* y almacenar el resultado en un array llamado *ventasEsperadas*.\n",
    "- Imrpima por pantalla el crecimiento esperado para la industra de bebidas."
   ]
  },
  {
   "cell_type": "code",
   "execution_count": 24,
   "id": "7d2b472e",
   "metadata": {},
   "outputs": [],
   "source": [
    "valoresCrecimiento = [1.01, 1.03, 1.03, 1.02, 1.05, 1.03, 1.06, 1.04, 1.03, 1.04, 1.02, 1.01]\n",
    "crecimientoMensual = ___\n",
    "ventasEsperadas = ___"
   ]
  },
  {
   "cell_type": "markdown",
   "id": "9024be1c",
   "metadata": {},
   "source": [
    "##### Ejercicio 5.2 - Broadcasting a lo largo de filas\n",
    "\n",
    "En el ejercicio 4.4 se utilizó una lista llamada *listaMulti* la cual contenía los valores con las proyecciones de ventas mes a mes para las industrias. Supongamos que no confiamos plenamente en estas estimaciones. Entonces lo que haremos es encontrar un multiplicador *promedio* de posibles ventas para cada industria a partir de los datos dentro de *listaMulti* del ejercicio 4.4. Luego utilizaremos estos promedios para proyectar las ventas del próximo año."
   ]
  },
  {
   "cell_type": "code",
   "execution_count": 25,
   "id": "2950bc5a",
   "metadata": {},
   "outputs": [],
   "source": [
    "listaMulti =   [[0.98, 1.02, 1.],\n",
    "               [1.00, 1.01, 0.97],\n",
    "               [1.06, 1.03, 0.98],\n",
    "               [1.08, 1.01, 0.98],\n",
    "               [1.08, 0.98, 0.98],\n",
    "               [1.1 , 0.99, 0.99],\n",
    "               [1.12, 1.01, 1.  ],\n",
    "               [1.1 , 1.02, 1.  ],\n",
    "               [1.11, 1.01, 1.01],\n",
    "               [1.08, 0.99, 0.97],\n",
    "               [1.09, 1.  , 1.02],\n",
    "               [1.13, 1.03, 1.02]]"
   ]
  },
  {
   "cell_type": "markdown",
   "id": "3abebd7e",
   "metadata": {},
   "source": [
    "- Guarde en un array llamado *multiplicadoresPromedios* los valores medios correspodientes a las proyecciones de ventas para cada industria a lo largo de todo un año a partir de *listaMulti*.\n",
    "- Imprima las *shapes* de *ventasAnuales* y *multiplicadoresPromedios* para corroborar que puedan ser broadcastables."
   ]
  },
  {
   "cell_type": "code",
   "execution_count": 26,
   "id": "9f7ff439",
   "metadata": {},
   "outputs": [],
   "source": [
    "multiplicadoresPromedios = ___"
   ]
  },
  {
   "cell_type": "markdown",
   "id": "b21a42d3",
   "metadata": {},
   "source": [
    "- Multiplique cada venta mensual por los multplicadores promedios de cada industria. Almacene el resultado en array llamado *ventasProyectadas*."
   ]
  },
  {
   "cell_type": "code",
   "execution_count": 27,
   "id": "ff4a805a",
   "metadata": {},
   "outputs": [],
   "source": [
    "ventasProyectadas = ___"
   ]
  },
  {
   "cell_type": "markdown",
   "id": "e30debb5",
   "metadata": {},
   "source": [
    "<hr style=\"border:1px solid #16C79A\"> </hr>\n",
    "\n",
    "## <span style='color:#16C79A'>6. Trabajando con imagen del pintor Monet</span>\n",
    "\n",
    "A continuación trabajaremos con una pintura del pintor [Monet]((https://es.wikipedia.org/wiki/Claude_Monet)).\n",
    "\n",
    "- Carge el archivo *pintura.npy* -que es una foto RGB- que se encuentra dentro de la carpeta *files* en un arary llamado *monet*."
   ]
  },
  {
   "cell_type": "code",
   "execution_count": 28,
   "id": "f06437ba",
   "metadata": {},
   "outputs": [],
   "source": [
    "import numpy as np\n",
    "import matplotlib.pyplot as plt\n",
    "import matplotlib.image as mpimg\n",
    "    \n",
    "# ## Descomentar para ver la imágen cargada\n",
    "# plt.imshow(monet)\n",
    "# plt.show()"
   ]
  },
  {
   "cell_type": "markdown",
   "id": "eef22f6e",
   "metadata": {},
   "source": [
    "- Oscurezca la imágem *monet* en un 50%. Guarde el resultado en un array llamado *monetOscuredido*."
   ]
  },
  {
   "cell_type": "code",
   "execution_count": 29,
   "id": "830aa4d9",
   "metadata": {},
   "outputs": [],
   "source": [
    "monetOscuredido = ___\n",
    "\n",
    "# ## Descomentar para ver la imágen cargada\n",
    "# plt.imshow(monetOscuredido)\n",
    "# plt.show()"
   ]
  },
  {
   "cell_type": "markdown",
   "id": "c9db065f",
   "metadata": {},
   "source": [
    "- Tome cada canal de *monet* y guardelos en tres arrays diferentes llamados *canalRojo*, *canalVerde* y *canalAzul*.\n",
    "\n"
   ]
  },
  {
   "cell_type": "code",
   "execution_count": 30,
   "id": "778dd5da",
   "metadata": {},
   "outputs": [],
   "source": [
    "canalRojo = ___\n",
    "canalVerde = ___\n",
    "canalAzul = ___"
   ]
  },
  {
   "cell_type": "code",
   "execution_count": 31,
   "id": "1360dbf8",
   "metadata": {},
   "outputs": [],
   "source": [
    "# ### Descomente para ver los canales\n",
    "# ceros = np.zeros((monet.shape[0],monet.shape[1])).astype(np.int8)\n",
    "# fig = plt.figure()\n",
    "# ax = fig.add_subplot(1, 3, 1)\n",
    "# imgplot = plt.imshow(np.stack([canalRojo,ceros,ceros],axis = 2))\n",
    "# ax.set_title('Canal Rojo')\n",
    "# ax = fig.add_subplot(1, 3, 2)\n",
    "# imgplot = plt.imshow(np.stack([ceros,canalVerde,ceros],axis = 2))\n",
    "# imgplot.set_clim(0.0, 0.7)\n",
    "# ax.set_title('Canal Verde')\n",
    "# ax = fig.add_subplot(1, 3, 3)\n",
    "# imgplot = plt.imshow(np.stack([ceros,ceros,canalAzul],axis = 2))\n",
    "# imgplot.set_clim(0.0, 0.7)\n",
    "# ax.set_title('Canal Azul')"
   ]
  },
  {
   "cell_type": "code",
   "execution_count": 32,
   "id": "5b77736d",
   "metadata": {},
   "outputs": [],
   "source": [
    "# ### Descomente para ver los canales\n",
    "# ceros = np.zeros((monet.shape[0],monet.shape[1])).astype(np.int8)\n",
    "# fig = plt.figure()\n",
    "# ax = fig.add_subplot(1, 3, 1)\n",
    "# imgplot = plt.imshow(np.stack([canalRojo,canalRojo,canalRojo],axis = 2))\n",
    "# ax.set_title('Canal Rojo')\n",
    "# ax = fig.add_subplot(1, 3, 2)\n",
    "# imgplot = plt.imshow(np.stack([canalVerde,canalVerde,canalVerde],axis = 2))\n",
    "# imgplot.set_clim(0.0, 0.7)\n",
    "# ax.set_title('Canal Verde')\n",
    "# ax = fig.add_subplot(1, 3, 3)\n",
    "# imgplot = plt.imshow(np.stack([canalAzul,canalAzul,canalAzul],axis = 2))\n",
    "# imgplot.set_clim(0.0, 0.7)\n",
    "# ax.set_title('Canal Azul')"
   ]
  },
  {
   "cell_type": "markdown",
   "id": "a067243e",
   "metadata": {},
   "source": [
    "- A partir del array *monet* tome el canal azul y calcule la media de píxeles.\n",
    "- Reemplace todos los valores por encima de la media con 255.\n",
    "- Forme un nuevo array monet llamado *monetResaltado* que este compuesto por los canales rojo y verde originales y el azul modificado."
   ]
  },
  {
   "cell_type": "code",
   "execution_count": 33,
   "id": "599b4510",
   "metadata": {},
   "outputs": [],
   "source": [
    "mediaAzul = ___\n",
    "monetResaltado = ___"
   ]
  },
  {
   "cell_type": "code",
   "execution_count": 34,
   "id": "bfa71c9c",
   "metadata": {},
   "outputs": [],
   "source": [
    "# ### Descomente para ver monetResaltado\n",
    "# plt.imshow(monetResaltado)\n",
    "# plt.show()"
   ]
  },
  {
   "cell_type": "markdown",
   "id": "be0e56c0",
   "metadata": {},
   "source": [
    "<hr style=\"border:1px solid #16C79A\"> </hr>\n",
    "\n",
    "## <span style='color:#16C79A'>7. Buscando la inversa de una matriz</span>\n",
    "\n",
    "Genere una función que reciba una matriz cuadrada como un *numpy.array* y retorne la inversa de la matriz. En el caso de que la matriz no tenga inversa, la función debe retornar None. "
   ]
  },
  {
   "cell_type": "markdown",
   "id": "2eb1dd06",
   "metadata": {},
   "source": [
    "<hr style=\"border:1px solid #16C79A\"> </hr>\n",
    "\n",
    "## <span style='color:#16C79A'>8. Profundizando el análisis del *Tree Census*</span>\n",
    "\n",
    "Tomando el set de datos *treeInfo* responda,\n",
    "\n",
    "- ¿Cuantos arboles vivos tenemos en el set de datos?\n",
    "- ¿Cuantos arboles cortados tenemos en el set de datos?\n",
    "- ¿Cual es el diámetro promedio de arboles vivos? ¿Y su desvío estándar? Agregue dos columnas al array original que contenga la media y el desvío estándar de los diametros de los troncos de arboles vivos.\n",
    "- Cual es el diámetro promedio de arboles cortados? ¿Y su desvío estándar? Agregue dos columnas al array original que contenga la media y el desvío estándar de los diametros de los troncos de arboles cortados.\n",
    "\n",
    "Utilice lo visto hasta acá para buscar en el set de datos lo que se pide en el ejercicio."
   ]
  },
  {
   "cell_type": "code",
   "execution_count": 35,
   "id": "cd614a20",
   "metadata": {},
   "outputs": [],
   "source": [
    "## ToDO Ejercicio 6"
   ]
  }
 ],
 "metadata": {
  "interpreter": {
   "hash": "ad2bdc8ecc057115af97d19610ffacc2b4e99fae6737bb82f5d7fb13d2f2c186"
  },
  "kernelspec": {
   "display_name": "Python 3.9.7 ('base')",
   "language": "python",
   "name": "python3"
  },
  "language_info": {
   "codemirror_mode": {
    "name": "ipython",
    "version": 3
   },
   "file_extension": ".py",
   "mimetype": "text/x-python",
   "name": "python",
   "nbconvert_exporter": "python",
   "pygments_lexer": "ipython3",
   "version": "3.9.7"
  }
 },
 "nbformat": 4,
 "nbformat_minor": 5
}
