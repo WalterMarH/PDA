{
 "cells": [
  {
   "cell_type": "markdown",
   "id": "cf6541be",
   "metadata": {},
   "source": [
    "# <center> <span style='color:#3c3b5f'>Ejercitación módulo Pandas</span></center>\n",
    "\n",
    "Módulo Pandas - Parte práctica\n",
    "\n",
    "**Profesor Adjunto:** Mag. Bioing. Baldezzari Lucas\n",
    "\n",
    "<p style='text-align: left;'> V2022 </p>\n",
    "\n",
    "<hr style=\"border:1px solid gray\"> </hr>"
   ]
  },
  {
   "cell_type": "markdown",
   "id": "4ff1087d",
   "metadata": {},
   "source": [
    "## <span style='color:#55aa74'>1. Primeros pasos con Pandas</span>\n",
    "\n",
    "En este ejercicio trabajará con datos estimados de personas en condición de calle en 2018 en algunos estados de Estados Unidos.\n",
    "\n",
    "- La columna *individuos* representa personas que viven solas.\n",
    "- La columna *miembrosFamilia* es el número de personas en condición de calle que poseen hijos/as.\n",
    "- La columna *poblacionTotal* representa el total de personas que habitan en un estado."
   ]
  },
  {
   "cell_type": "markdown",
   "id": "c09ec02a",
   "metadata": {},
   "source": [
    "#### 1.1 Cargando un DataFrame y chequeando datos\n",
    "\n",
    "- A) Usted dispone de un archivo llamado *sinhogares.csv* dentro de la carpeta */datasets*. Cargue el archivo en un dataframe llamado *sinhogares*\n",
    "- B) Utilice los siguientes métodos para conocer un poco más los datos cargados.\n",
    "    - .head()\n",
    "    - .info()\n",
    "    - .describe()\n",
    "    - .shape\n",
    "- C) En base a lo anterior, ¿cuantas observaciones/filas posee el data set?"
   ]
  },
  {
   "cell_type": "code",
   "execution_count": 1,
   "id": "5d45e899",
   "metadata": {},
   "outputs": [
    {
     "data": {
      "text/plain": [
       "(51, 6)"
      ]
     },
     "execution_count": 1,
     "metadata": {},
     "output_type": "execute_result"
    }
   ],
   "source": [
    "## TODO 1.1\n",
    "import pandas as pd\n",
    "\n",
    "sh = pd.read_csv(\"datasets/sinhogares.csv\")\n",
    "sh.shape"
   ]
  },
  {
   "cell_type": "markdown",
   "id": "28b43b26",
   "metadata": {},
   "source": [
    "#### 1.2 Valores, columnas e índices del dataframe\n",
    "\n",
    "Para entender mejor al dataframe investigue los atributos.\n",
    "\n",
    "- .values\n",
    "- .columns\n",
    "- .index\n",
    "\n",
    "¿Cuales son las columnas que forman el DataFrame? ¿Cómo son los índices (numéricos o tienen nombre)?"
   ]
  },
  {
   "cell_type": "code",
   "execution_count": 2,
   "id": "819a28c2",
   "metadata": {},
   "outputs": [
    {
     "data": {
      "text/plain": [
       "Index(['Unnamed: 0', 'region', 'estado', 'individuos', 'miembrosFamilia',\n",
       "       'poblacionTotal'],\n",
       "      dtype='object')"
      ]
     },
     "execution_count": 2,
     "metadata": {},
     "output_type": "execute_result"
    }
   ],
   "source": [
    "## TODO 1.2\n",
    "sh.columns"
   ]
  },
  {
   "cell_type": "markdown",
   "id": "a5c1333a",
   "metadata": {},
   "source": [
    "#### 1.3 Ordenando el dataframe\n",
    "\n",
    "- A) Ordene los datos dentro del dataframe *sinhogares* por la columna *individuos* y guardela en un archivo llamado *sinhogares_Ind*. Imprima los primeros 5 datos de *sinhogares_Ind*.\n",
    "- B) En un dataframe llamado *sinhogares_Fam* guarde el dataframe original pero ordenado por la columna *miembrosFamilia* de mayor a menor. Imprima los primeros 5 datos de *sinhogares_Fam*.\n",
    "- C) Ordene los datos del dataframe primero por *region* (de forma ascendente) y luego por *miembrosFamilia* (de manera descendente). Guarde los datos en un dataframe e imprima los primeros cinco valores."
   ]
  },
  {
   "cell_type": "code",
   "execution_count": 10,
   "id": "06797335",
   "metadata": {},
   "outputs": [],
   "source": [
    "## TODO 1.3\n",
    "sinhogares_Ind = sh.sort_values(\"individuos\", ascending = False).head()\n",
    "sinhogares_Fam = sh.sort_values(\"miembrosFamilia\", ascending = False).head()\n",
    "sinhogares_reg_fam = sh.sort_values([\"individuos\",\"miembrosFamilia\"], ascending = [True,False]).head()"
   ]
  },
  {
   "cell_type": "markdown",
   "id": "2c6450d6",
   "metadata": {},
   "source": [
    "#### 1.4 Obteniendo subsets a partir de columnas\n",
    "\n",
    "Recuerde que podemos obtener trozos de nuestro dataframe haciendo \n",
    "\n",
    "```python\n",
    "subset1 = dataframe[\"columnaInteres\"]\n",
    "subset1 = dataframe[[\"columnaInteres\",\"otraColumna\"]]\n",
    "```\n",
    "\n",
    "- A partir del dataframe *sinhogares* cree un dataframe llamado *indiv_estados* que este formado por las columnas *individuos* y *poblacionTotal*. Imprima el head del dataframe."
   ]
  },
  {
   "cell_type": "code",
   "execution_count": 13,
   "id": "47854dd7",
   "metadata": {},
   "outputs": [
    {
     "name": "stdout",
     "output_type": "stream",
     "text": [
      "    individuos  poblacionTotal\n",
      "4       109008        39461588\n",
      "32       39827        19530351\n",
      "9        21443        21244317\n",
      "43       19199        28628666\n",
      "47       16424         7523869\n",
      "37       11139         4181886\n",
      "38        8163        12800922\n",
      "5         7607         5691287\n",
      "2         7259         7158024\n",
      "28        7058         3027341\n",
      "10        6943        10511131\n",
      "35        6929        11676341\n",
      "21        6811         6882635\n",
      "13        6752        12723071\n",
      "33        6451        10381615\n",
      "42        6139         6771631\n",
      "30        6048         8886025\n",
      "22        5209         9984072\n",
      "20        4914         6035802\n",
      "11        4131         1420593\n",
      "23        3993         5606249\n",
      "46        3928         8501286\n",
      "25        3776         6121623\n",
      "14        3776         6695497\n",
      "8         3770          701547\n",
      "40        3082         5084156\n",
      "36        2823         3940235\n",
      "49        2740         5807406\n",
      "17        2735         4461153\n",
      "0         2570         4887681\n",
      "18        2540         4659690\n",
      "6         2280         3571520\n",
      "3         2280         3009733\n",
      "31        1949         2092741\n",
      "44        1904         3153550\n",
      "27        1745         1925614\n",
      "15        1711         3148618\n",
      "19        1450         1339057\n",
      "16        1443         2911359\n",
      "1         1434          735139\n",
      "12        1297         1750536\n",
      "24        1024         2981020\n",
      "48        1021         1804291\n",
      "26         983         1060665\n",
      "41         836          878698\n",
      "29         835         1353465\n",
      "45         780          624358\n",
      "39         747         1058287\n",
      "7          708          965479\n",
      "34         467          758080\n",
      "50         434          577601\n"
     ]
    }
   ],
   "source": [
    "## TODO 1.4\n",
    "indiv_estados = sh[['individuos','poblacionTotal']].sort_values(\"individuos\", ascending = False)\n",
    "print(indiv_estados)"
   ]
  },
  {
   "cell_type": "markdown",
   "id": "dd8dfa9e",
   "metadata": {},
   "source": [
    "#### 1.5 Obteniendo subsets a partir de filas aplicando filtros\n",
    "\n",
    "- A) Cree un dataframe que contenga los datos de las personas en condición de calle que superen los 10mil individuos por estado.\n",
    "- B) Cree un dataframe que contenga los datos de las personas en condición de calle menores a los mil individuos y que correspondan a la región \"Pacific\". Imprima el dataframe creado."
   ]
  },
  {
   "cell_type": "code",
   "execution_count": 5,
   "id": "fb675689",
   "metadata": {},
   "outputs": [],
   "source": [
    "## TODO 1.5    "
   ]
  },
  {
   "cell_type": "markdown",
   "id": "c0f89e27",
   "metadata": {},
   "source": [
    "#### 1.6 Obteniendo subsets a partir de datos categóricos\n",
    "\n",
    "Utilizando *.isin()* se pide,\n",
    "\n",
    "- A) Cree un subset que contenga los datos para las regiones *South Atlantic* y *Mid-Atlantic*. Imprima el subset.\n",
    "- B) Cree un subset que contenga los datos para los estados *California*, *Arizona*, *Nevada* y *Utah*."
   ]
  },
  {
   "cell_type": "code",
   "execution_count": 6,
   "id": "0c4a8dd1",
   "metadata": {},
   "outputs": [],
   "source": [
    "## TODO 1.6"
   ]
  },
  {
   "cell_type": "markdown",
   "id": "890653dd",
   "metadata": {},
   "source": [
    "## <span style='color:#55aa74'>2. Un poco de estadística</span>\n",
    "\n",
    "Para este ejercicio se trabajará con los datos de venta de la cadena de supermercados *Walmart* que van desde enero de 2010 a diciembre de 2012.\n",
    "\n",
    "Las columnas dentro del set de datos representa:\n",
    "\n",
    "- Store: Numero de supermercado\n",
    "- Type: Tipo de tienda.\n",
    "- Department: Departamento donde se realizó la venta.\n",
    "- Date: Semana de venta\n",
    "- weekly_sales: Ventas semanales\n",
    "- is_holiday: Indica si esa semana hubieron días festivos.\n",
    "- Temperature: Temperatura del día de las ventas.\n",
    "- Fuel_Price: Costo del combustible en la región\n",
    "- Unemployment: Representa el porcentaje de la fuerza laboral sin trabajo."
   ]
  },
  {
   "cell_type": "markdown",
   "id": "11628420",
   "metadata": {},
   "source": [
    "Cargamos el archivo *walmart.csv* (se encuentra dentro del directorio */datastes/*) en un dataframe llamado *walmart* y vemos su encabezado"
   ]
  },
  {
   "cell_type": "code",
   "execution_count": 7,
   "id": "3040848f",
   "metadata": {},
   "outputs": [
    {
     "data": {
      "text/html": [
       "<div>\n",
       "<style scoped>\n",
       "    .dataframe tbody tr th:only-of-type {\n",
       "        vertical-align: middle;\n",
       "    }\n",
       "\n",
       "    .dataframe tbody tr th {\n",
       "        vertical-align: top;\n",
       "    }\n",
       "\n",
       "    .dataframe thead th {\n",
       "        text-align: right;\n",
       "    }\n",
       "</style>\n",
       "<table border=\"1\" class=\"dataframe\">\n",
       "  <thead>\n",
       "    <tr style=\"text-align: right;\">\n",
       "      <th></th>\n",
       "      <th>store</th>\n",
       "      <th>type</th>\n",
       "      <th>department</th>\n",
       "      <th>date</th>\n",
       "      <th>weekly_sales</th>\n",
       "      <th>is_holiday</th>\n",
       "      <th>temperature</th>\n",
       "      <th>fuel_price</th>\n",
       "      <th>unemployment</th>\n",
       "    </tr>\n",
       "  </thead>\n",
       "  <tbody>\n",
       "    <tr>\n",
       "      <th>0</th>\n",
       "      <td>1</td>\n",
       "      <td>A</td>\n",
       "      <td>1</td>\n",
       "      <td>2/5/2010</td>\n",
       "      <td>24924.50</td>\n",
       "      <td>False</td>\n",
       "      <td>5.727778</td>\n",
       "      <td>0.679451</td>\n",
       "      <td>8.106</td>\n",
       "    </tr>\n",
       "    <tr>\n",
       "      <th>1</th>\n",
       "      <td>1</td>\n",
       "      <td>A</td>\n",
       "      <td>1</td>\n",
       "      <td>3/5/2010</td>\n",
       "      <td>21827.90</td>\n",
       "      <td>False</td>\n",
       "      <td>8.055556</td>\n",
       "      <td>0.693452</td>\n",
       "      <td>8.106</td>\n",
       "    </tr>\n",
       "    <tr>\n",
       "      <th>2</th>\n",
       "      <td>1</td>\n",
       "      <td>A</td>\n",
       "      <td>1</td>\n",
       "      <td>4/2/2010</td>\n",
       "      <td>57258.43</td>\n",
       "      <td>False</td>\n",
       "      <td>16.816667</td>\n",
       "      <td>0.718284</td>\n",
       "      <td>7.808</td>\n",
       "    </tr>\n",
       "    <tr>\n",
       "      <th>3</th>\n",
       "      <td>1</td>\n",
       "      <td>A</td>\n",
       "      <td>1</td>\n",
       "      <td>5/7/2010</td>\n",
       "      <td>17413.94</td>\n",
       "      <td>False</td>\n",
       "      <td>22.527778</td>\n",
       "      <td>0.748928</td>\n",
       "      <td>7.808</td>\n",
       "    </tr>\n",
       "    <tr>\n",
       "      <th>4</th>\n",
       "      <td>1</td>\n",
       "      <td>A</td>\n",
       "      <td>1</td>\n",
       "      <td>6/4/2010</td>\n",
       "      <td>17558.09</td>\n",
       "      <td>False</td>\n",
       "      <td>27.050000</td>\n",
       "      <td>0.714586</td>\n",
       "      <td>7.808</td>\n",
       "    </tr>\n",
       "  </tbody>\n",
       "</table>\n",
       "</div>"
      ],
      "text/plain": [
       "   store type  department      date  weekly_sales  is_holiday  temperature  \\\n",
       "0      1    A           1  2/5/2010      24924.50       False     5.727778   \n",
       "1      1    A           1  3/5/2010      21827.90       False     8.055556   \n",
       "2      1    A           1  4/2/2010      57258.43       False    16.816667   \n",
       "3      1    A           1  5/7/2010      17413.94       False    22.527778   \n",
       "4      1    A           1  6/4/2010      17558.09       False    27.050000   \n",
       "\n",
       "   fuel_price  unemployment  \n",
       "0    0.679451         8.106  \n",
       "1    0.693452         8.106  \n",
       "2    0.718284         7.808  \n",
       "3    0.748928         7.808  \n",
       "4    0.714586         7.808  "
      ]
     },
     "execution_count": 7,
     "metadata": {},
     "output_type": "execute_result"
    }
   ],
   "source": [
    "walmart = pd.read_csv(\"datasets/walmart.csv\")\n",
    "walmart.head()"
   ]
  },
  {
   "cell_type": "markdown",
   "id": "0f97b0be",
   "metadata": {},
   "source": [
    "#### 2.1 Medias y medianas\n",
    "\n",
    "- A) ¿Cuál es el promedio de ventas semanales totales? ¿Cuál es la mediana?\n",
    "- B) Obtenga el promedio de ventas semanales para cada año del data set. Idem para la mediana.\n",
    "- C) ¿Cuando se hizo la última venta según este data set? ¿Y cuando fue la primera?"
   ]
  },
  {
   "cell_type": "code",
   "execution_count": 8,
   "id": "67b46b3e",
   "metadata": {},
   "outputs": [],
   "source": [
    "## TODO 2.1"
   ]
  },
  {
   "cell_type": "markdown",
   "id": "6c877ef1",
   "metadata": {},
   "source": [
    "#### 2.2 Rango intercuartil\n",
    "\n",
    "- Defina una función llamada *iqr(columna)* que devuelva el rango intercuartil (IQR). Esta función recibirá una *columna* de un dataframe con valores numéricos a partir de los cuales obtendrá los cuartiles $Q_1$ y $Q_3$ para devolver el $IQR = Q_3-Q_1$.\n",
    "- Luego con la función *.agg()* aplique las funciones *iqr()* y *np.median()* a las columnas *temperature*, *fuel_price* y *unemployment* del set de datos. Imprima el dataframe obtenido."
   ]
  },
  {
   "cell_type": "code",
   "execution_count": 9,
   "id": "5a558a91",
   "metadata": {},
   "outputs": [
    {
     "name": "stdout",
     "output_type": "stream",
     "text": [
      "walmart[['columnas']].agg([lista de funciones])\n"
     ]
    }
   ],
   "source": [
    "## TODO 2.2\n",
    "def irq(columna):\n",
    "    pass\n",
    "\n",
    "print(\"walmart[['columnas']].agg([lista de funciones])\") ##idea de implementación"
   ]
  },
  {
   "cell_type": "markdown",
   "id": "1309a7cf",
   "metadata": {},
   "source": [
    "#### 2.3 Eliminando duplicados y contando\n",
    "\n",
    "Utilizando *.drop_duplicates()* se pide:\n",
    "\n",
    "- A) Elimine los datos duplicados a partir de las columnas *store* y *type*. Almacene el dataframe en *tiposTiendas*.\n",
    "- B) Elimine los datos duplicados a partir de las columnas *store* y *departament*. Almacene el dataframe en *deptsTiendas*.\n",
    "- C) Genere un subset llamado *fechaVacaciones* a partir de filtrar los datos en donde los valores de la columna *is_holiday* son True y remueva los duplicados a partir de la columna *date*.\n",
    "\n",
    "Imprima los dataframe creados."
   ]
  },
  {
   "cell_type": "code",
   "execution_count": 10,
   "id": "5689a20c",
   "metadata": {},
   "outputs": [],
   "source": [
    "## TODO 2.3\n",
    "\n",
    "tiposTiendas = ___\n",
    "deptsTiendas = ___\n",
    "fechaVacaciones = ___\n"
   ]
  },
  {
   "cell_type": "markdown",
   "id": "01a1200a",
   "metadata": {},
   "source": [
    "#### 2.4 Contando variables categóricas\n",
    "\n",
    "A partir de los dataframe *tiposTiendas* y *deptsTiendas* se pide,\n",
    "\n",
    "- A) Cuente cuántos tipos de tiendas hay dentro de *tiposTiendas*. También imprima las proporciones (usando *normalize = True*)\n",
    "- B) Cuente cuántos departamentos diferentes tenemos en *deptsTiendas* y ordene los datos. También imprima las proporciones ordeandas.\n"
   ]
  },
  {
   "cell_type": "code",
   "execution_count": 11,
   "id": "4902118c",
   "metadata": {},
   "outputs": [],
   "source": [
    "## TODO 2.4"
   ]
  },
  {
   "cell_type": "markdown",
   "id": "c8f3e7fc",
   "metadata": {},
   "source": [
    "#### 2.5 Proporciones de ventas por cada tipo de tienda\n",
    "\n",
    "Calcule las proporciones de ventas semanales realizadas por cada tienda. Tenga en cuenta que las proporciones son el resultado de la venta de un tipo de tienda dividida las ventas totales.\n",
    "\n",
    "Utilizando las herramientas vistas hasta ahora cuente cuantos tipos de tiendas hay en el set de datos. Luego utilice estos tipos para *filtrar* el dataset por cada tipo de tienda y use la función *.sum()* para sumar las ventas semanales del tipo particular de tienda selecionado. Finalmente divida cada una de las ventas semanales por las ventas totales.\n",
    "\n",
    "Guarde las proporciones en una lista.\n",
    "\n",
    "Ejemplo para tiendas del tipo A\n",
    "\n",
    "```python\n",
    "ventasA = walmart[walmart[\"type\"] == \"A\"][\"weekly_sales\"].sum()/totales\n",
    "```\n",
    "\n",
    "Donde *totales* es la suma de todas las ventas semanales del set de datos."
   ]
  },
  {
   "cell_type": "code",
   "execution_count": 12,
   "id": "92673db1",
   "metadata": {},
   "outputs": [],
   "source": [
    "## TODO 2.5"
   ]
  },
  {
   "cell_type": "markdown",
   "id": "99c5c111",
   "metadata": {},
   "source": [
    "### <span style='color:#381c88'>Función *.groupby()*</span>\n",
    "\n",
    "#### 2.6 Haciendo cálculos con *groupby()*\n",
    "\n",
    "Implemente el punto 2.5 pero usando la función *groupby()*.\n",
    "\n",
    "> Much easier! Isn't it?"
   ]
  },
  {
   "cell_type": "code",
   "execution_count": 13,
   "id": "01d3c2ed",
   "metadata": {},
   "outputs": [],
   "source": [
    "## TODO 2.6"
   ]
  },
  {
   "cell_type": "markdown",
   "id": "8e2a7a7f",
   "metadata": {},
   "source": [
    "#### 2.7 Datos a partir de agrupamiento múltiple\n",
    "\n",
    "- A) Obtenga los mínimos, máximos, las medias (usando np.mean) y las medianas (usando np.median) de las ventas semanales para cada tipo de tienda.\n",
    "- B) Obtenga los mínimos, máximos, las medias (usando np.mean) y las medianas (usando np.median) de las columnas *unemployment* y *fuel_price* para cada tipo de tienda.\n",
    "\n",
    "**Hint:** Utilice *.groupby()* para agrupar datos y *.agg()* para aplicar las funciones."
   ]
  },
  {
   "cell_type": "code",
   "execution_count": 14,
   "id": "623ba854",
   "metadata": {},
   "outputs": [],
   "source": [
    "## TODO 2.7"
   ]
  },
  {
   "cell_type": "markdown",
   "id": "020ed0ca",
   "metadata": {},
   "source": [
    "### <span style='color:#381c88'>Tablas dinámicas</span>\n",
    "\n",
    "En esta parte utilizaremos la función *.pivot_table()*.\n",
    "\n",
    "#### 2.8 Datos a partir de agrupamiento múltiple\n",
    "\n",
    "- A) Obtenga la media y la mediana (con funciones de Numpy) de las ventas semanales por cada tipo de tienda usando *.pivot_table()* y almacene la tabla en *mediasYmedianas*.\n",
    "- B) Use *.pivot_table()* para crear una tabla donde muestre las ventas promedios por cada tipo de tienda, donde las columnas correspondan a *is_holiday*. Guarde esta tabla en *mediasXVacaciones*."
   ]
  },
  {
   "cell_type": "code",
   "execution_count": 15,
   "id": "5a8bb13d",
   "metadata": {},
   "outputs": [],
   "source": [
    "## TODO 2.8\n",
    "\n",
    "mediasYmedianas = ___\n",
    "mediasXVacaciones = ___"
   ]
  },
  {
   "cell_type": "markdown",
   "id": "24fb932e",
   "metadata": {},
   "source": [
    "## <span style='color:#55aa74'>3. Temperatura a lo largo de los años</span>\n",
    "\n",
    "En esta parte trabajará con un set de datos que contiene valores de temperatura para diferentes países a lo largo de varios años. Usted cuenta con un archivo llamado *temperatures.csv* dentro de la carpeta *datasets/*."
   ]
  },
  {
   "cell_type": "code",
   "execution_count": 16,
   "id": "09f376ee",
   "metadata": {},
   "outputs": [],
   "source": [
    "t = pd.read_csv(\"datasets/temperatures.csv\")"
   ]
  },
  {
   "cell_type": "markdown",
   "id": "61c4784b",
   "metadata": {},
   "source": [
    "#### 3.1 Datos básicos\n",
    "\n",
    "Cargue el archivo en un dataframe llamado *temperaturas* y encuentre.\n",
    "\n",
    "1. Los 5 países con mayores temperaturas promedios en los últimos 5 años.\n",
    "2. Las 10 ciudades con mayores temperaturas promedios en los últimos 5 años.\n",
    "3. El país que haya sufrido el mayor aumento de temperatura desde el primer registro hasta el último registro dentro del set de datos. ¿Cuantos grados en promedio ha aumentado o disminuído la temperatura este país?"
   ]
  },
  {
   "cell_type": "code",
   "execution_count": 17,
   "id": "8d7bcb6e",
   "metadata": {},
   "outputs": [],
   "source": [
    "## TODO 3.1"
   ]
  },
  {
   "cell_type": "markdown",
   "id": "e35df6ae",
   "metadata": {},
   "source": [
    "#### 3.2 Subdatos con .loc[ ]\n",
    "\n",
    "1. Crear una lista llamada *ciudades* que contengan las ciudades de \"Montreal\" y \"Toronto\".\n",
    "2. Utilizando corchetes cree un subset de datos filtrando con la lista creada anteriormente. Nota: Puede ayudarse con *isin()*.\n",
    "3. Utilice *.set_index()* para crear un nuevo dataframe llamado *tempCity* con los índices a partir de las ciudades. Luego use la función .loc[] para crear un subset de datos que contenga las ciudades en la lista *ciudades*\n",
    "\n",
    "¿Cual de las formas de crear subsets les parece más facil y/o intuitiva?"
   ]
  },
  {
   "cell_type": "code",
   "execution_count": 18,
   "id": "8a652678",
   "metadata": {},
   "outputs": [],
   "source": [
    "## TODO 3.2"
   ]
  },
  {
   "cell_type": "markdown",
   "id": "b0eca49c",
   "metadata": {},
   "source": [
    "#### 3.3 Trabajando con índices multinivel\n",
    "\n",
    "A partir del dataframe *temperaturas* setee los índices *country* y *city* y asigne el dataframe a *tempCC*. Luego cree una lista de tuplas de tal manera de tener los pares país/ciudad de Brazil/Rio de Janeiro, Canada/Toronto y China/Wuhan. Finalmente, imprima un subset de datos de *tempCC* donde solo se muestren los datos correspondientes a los pares mencionados anteriormente. Utilice .loc[]."
   ]
  },
  {
   "cell_type": "code",
   "execution_count": 19,
   "id": "352d1544",
   "metadata": {},
   "outputs": [],
   "source": [
    "## TODO 3.3\n",
    "\n",
    "tempCC = ___"
   ]
  },
  {
   "cell_type": "markdown",
   "id": "40289d02",
   "metadata": {},
   "source": [
    "#### 3.4 Slicing\n",
    "\n",
    "Ordene el dataframe *tempCC* usando *.sort_index()* luego,\n",
    "\n",
    "1. Imprima un slice contemplando los países de Brasil hasta Dominican Republic.\n",
    "2. Imprimia un slice contemplando las ciudades de Belo Horizonte hasta Bogotá.\n",
    "3. Cree un dataframe llamado *tempsDates* el cual reciba el dataframe *temperaturas* pero con la columna *date* seteada como índice. Ordene *tempsDates* por índice. Luego imprima un slice que contemple las fechas 2010-07 y 2011-01."
   ]
  },
  {
   "cell_type": "code",
   "execution_count": 20,
   "id": "bb1e23ac",
   "metadata": {},
   "outputs": [],
   "source": [
    "## TODO 3.4"
   ]
  },
  {
   "cell_type": "markdown",
   "id": "bc35b5fa",
   "metadata": {},
   "source": [
    "#### 3.5 Tabla dinámica por ciudad y año\n",
    "\n",
    "Ahora creará una tabla dinámica para obtener información de la variación de temperatura por cada ciudad dentro del set de datos.\n",
    "\n",
    "1. En primer lugar, agregue una columna llamada *year* al set *temperaturas* que contenga los años a partir de la columna *date* del dataframe. Es posible obtener los días, los mesos o los años de un dato del tipo *fecha* haciendo\n",
    "\n",
    "```python\n",
    "dataframe[\"columa\"].dt.component\n",
    "```\n",
    "\n",
    "Así por ejemplo, tomando el dataframe *temperaturas* podríamos agregar una columna *year* haciendo,\n",
    "\n",
    "```python\n",
    "temperaturas[\"year\"] = temperaturas[\"date\"].dt.year\n",
    "```\n",
    "\n",
    "**IMPORTANTE**: Si al intentar hacer lo anterior usted recibe un error del tipo \n",
    "\n",
    "```python\n",
    "AttributeError: Can only use .dt accessor with datetimelike values\n",
    "```\n",
    "\n",
    "Debe ejecutar la siguiente linea de código para formatear las fechas.\n",
    "\n",
    "```python\n",
    "t['date'] = pd.to_datetime(t.date, format='%Y-%m-%d')\n",
    "```\n",
    "\n",
    "2. Cree una tabla pivote que tome los valores de *avg_temp_c*, donde los índices estén formados por *country* y *city* (en ese orden) y las columnas contengan los años de la columna *year* agregada en el paso anterior. Guarde la tabla en *tablaTemps*. Imprima *tablaTemps*."
   ]
  },
  {
   "cell_type": "code",
   "execution_count": 21,
   "id": "3ce243e9",
   "metadata": {},
   "outputs": [],
   "source": [
    "## TODO 3.5\n",
    "tablaTemps = ___"
   ]
  },
  {
   "cell_type": "markdown",
   "id": "37841646",
   "metadata": {},
   "source": [
    "#### 3.6 Variación de temperatura para la ciudad de Wuhan, China.\n",
    "\n",
    "A continuación veremos la variación de temperatura promedio desde el año 2000 al 2013 para la ciudad de Wuhan. Una forma de hacer esto es siguiendo estos pasos.\n",
    "\n",
    "- Utiliando el dataframe *temperaturas* con la columna *year* agregada, primeramente filtre con [] los datos correspondientes a *China*. Luego cree una *pivote_table()* donde sus valores estén formados por los datos de las columnas *avg_temp_c*, los índices correspondan a la columna *city* y las columnas correspondan a *year*.\n",
    "- Imprima la tabla. Si todo esta OK, Lla misma debe contener las temperaturas promedios de las ciudades de China que figuren en el dataset desde el año 2000 al año 2013. Guarde esta tabla en *tempsChinaCities*.\n",
    "- Utilizando *tempsChinaCities.loc[]* obtenga las variaciones de temperatura correspondientes a la ciudad de *Wuhan*. Guarde estos datos en *WuhanTemps*.\n",
    "- Finalmente, descomente las lineas para graficar."
   ]
  },
  {
   "cell_type": "code",
   "execution_count": 22,
   "id": "ccdd1b6d",
   "metadata": {},
   "outputs": [],
   "source": [
    "## TODO 3.6\n",
    "tempsChinaCities = ___\n",
    "WuhanTemps = ___"
   ]
  },
  {
   "cell_type": "code",
   "execution_count": 23,
   "id": "ba649f6b",
   "metadata": {},
   "outputs": [],
   "source": [
    "## # Descomentar para graficar\n",
    "# import matplotlib.pyplot as plt\n",
    "\n",
    "# plt.plot(WuhanTemps, label = \"Wuhan\")\n",
    "# plt.xlabel(\"Año\")\n",
    "# plt.ylabel(\"Temperatura [°C]\")\n",
    "# plt.title(\"Temperaturas promedios desde 2000 a 2013\")\n",
    "# plt.legend()\n",
    "# plt.show()"
   ]
  },
  {
   "cell_type": "markdown",
   "id": "de5b0f13",
   "metadata": {},
   "source": [
    "## <span style='color:#55aa74'>4. Graficación básica</span>\n",
    "\n",
    "En este ejercicio se trabajará con un set de datos que contiene las ventas semanales de *paltas* en tiendas de EEUU. Estas ventas están separadas por año, por tipo (convencional u orgnánico) y por tamaño (small, large, extra_large).\n",
    "\n",
    "Cargue los datos de *paltas.csv* que se encuentra dentro de *datasets/*. Imvestigue el dataframe con los métodos vistos."
   ]
  },
  {
   "cell_type": "markdown",
   "id": "0671c50f",
   "metadata": {},
   "source": [
    "#### 4.1 Paltas populares\n",
    "\n",
    "- Obtenga el número total de paltas vendidas por cada tamaño (*size*). Puede usar *.groupby()* para agrupar por tamaño y luego computar las ventas semanales totales. Guarde estos datos en *ventasXSize*.\n",
    "- Utilice *ventasXSize* para realizar un gráfico de barras."
   ]
  },
  {
   "cell_type": "code",
   "execution_count": 24,
   "id": "3c266db4",
   "metadata": {},
   "outputs": [],
   "source": [
    "## TODO 4.1 \n",
    "ventasXSize = ___\n",
    "\n",
    "## gráfica\n",
    "# ventasXSize.plot(kind = \"bar\")\n",
    "# plt.show()"
   ]
  },
  {
   "cell_type": "markdown",
   "id": "7eed0a95",
   "metadata": {},
   "source": [
    "#### 4.2 Ventas a lo largo del tiempo\n",
    "\n",
    "- Compute el número de paltas vendidas por fecha. Guarde los datos en *ventasXFecha*.\n",
    "- Realice un gráfico de *línea* a partir de *ventasXFecha*."
   ]
  },
  {
   "cell_type": "code",
   "execution_count": 25,
   "id": "2f4bdef6",
   "metadata": {},
   "outputs": [],
   "source": [
    "## TODO 4.2\n",
    "\n",
    "ventasXFecha = ___\n",
    "\n",
    "##gráfica\n",
    "pass"
   ]
  },
  {
   "cell_type": "markdown",
   "id": "6a88d68d",
   "metadata": {},
   "source": [
    "#### 4.3 Ventas vs Precio\n",
    "\n",
    "Realice un gráfico del tipo *scatter* en donde el eje x tenga los datos de la columna *nb_sold* y el eje y tenga los datos de la columna *avg_price*. Agregue un título al gráfico."
   ]
  },
  {
   "cell_type": "markdown",
   "id": "7499c447",
   "metadata": {},
   "source": [
    "#### 4.3 Convencional vs Orgánico\n",
    "\n",
    "Realice un histograma donde contabilicen las ventas semanales de paltas orgánicas y otro en donde contabilicen las ventas semanales de paltas convenionales. Coloque ambos histogramas en el mismo gráfico."
   ]
  },
  {
   "cell_type": "markdown",
   "id": "9af2b60f",
   "metadata": {},
   "source": [
    "## <span style='color:#55aa74'>5. Analizando jugadores FIFA 2021 (obligatorio)</span>\n",
    "\n",
    "Para este ejercicio se utilizará el set de datos del juego FIFA 2021. El mismo contiene información acerca de los jugadores de fútbol de diferentes ligas y selecciones a nivel mundial.\n",
    "\n",
    "El archivo con el cual trabajará se llama  *fifa2021.csv*.\n",
    "\n",
    "Antes de empezar, realizaremos una limpieza de los datos."
   ]
  },
  {
   "cell_type": "code",
   "execution_count": 3,
   "metadata": {},
   "outputs": [],
   "source": [
    "import pandas as pd"
   ]
  },
  {
   "cell_type": "code",
   "execution_count": 4,
   "id": "818eb333",
   "metadata": {},
   "outputs": [
    {
     "data": {
      "text/html": [
       "<div>\n",
       "<style scoped>\n",
       "    .dataframe tbody tr th:only-of-type {\n",
       "        vertical-align: middle;\n",
       "    }\n",
       "\n",
       "    .dataframe tbody tr th {\n",
       "        vertical-align: top;\n",
       "    }\n",
       "\n",
       "    .dataframe thead th {\n",
       "        text-align: right;\n",
       "    }\n",
       "</style>\n",
       "<table border=\"1\" class=\"dataframe\">\n",
       "  <thead>\n",
       "    <tr style=\"text-align: right;\">\n",
       "      <th></th>\n",
       "      <th>sofifa_id</th>\n",
       "      <th>player_url</th>\n",
       "      <th>short_name</th>\n",
       "      <th>long_name</th>\n",
       "      <th>age</th>\n",
       "      <th>dob</th>\n",
       "      <th>height_cm</th>\n",
       "      <th>weight_kg</th>\n",
       "      <th>nationality</th>\n",
       "      <th>club_name</th>\n",
       "      <th>...</th>\n",
       "      <th>defending_marking</th>\n",
       "      <th>defending_standing_tackle</th>\n",
       "      <th>defending_sliding_tackle</th>\n",
       "      <th>goalkeeping_diving</th>\n",
       "      <th>goalkeeping_handling</th>\n",
       "      <th>goalkeeping_kicking</th>\n",
       "      <th>goalkeeping_positioning</th>\n",
       "      <th>goalkeeping_reflexes</th>\n",
       "      <th>ls</th>\n",
       "      <th>st</th>\n",
       "    </tr>\n",
       "  </thead>\n",
       "  <tbody>\n",
       "    <tr>\n",
       "      <th>0</th>\n",
       "      <td>158023</td>\n",
       "      <td>https://sofifa.com/player/158023/lionel-messi/...</td>\n",
       "      <td>L. Messi</td>\n",
       "      <td>Lionel Andrés Messi Cuccittini</td>\n",
       "      <td>33</td>\n",
       "      <td>6/24/1987</td>\n",
       "      <td>170</td>\n",
       "      <td>72</td>\n",
       "      <td>Argentina</td>\n",
       "      <td>FC Barcelona</td>\n",
       "      <td>...</td>\n",
       "      <td>NaN</td>\n",
       "      <td>35</td>\n",
       "      <td>24</td>\n",
       "      <td>6</td>\n",
       "      <td>11</td>\n",
       "      <td>15</td>\n",
       "      <td>14</td>\n",
       "      <td>8</td>\n",
       "      <td>89+3</td>\n",
       "      <td>89+3</td>\n",
       "    </tr>\n",
       "    <tr>\n",
       "      <th>1</th>\n",
       "      <td>20801</td>\n",
       "      <td>https://sofifa.com/player/20801/c-ronaldo-dos-...</td>\n",
       "      <td>Cristiano Ronaldo</td>\n",
       "      <td>Cristiano Ronaldo dos Santos Aveiro</td>\n",
       "      <td>35</td>\n",
       "      <td>2/5/1985</td>\n",
       "      <td>187</td>\n",
       "      <td>83</td>\n",
       "      <td>Portugal</td>\n",
       "      <td>Juventus</td>\n",
       "      <td>...</td>\n",
       "      <td>NaN</td>\n",
       "      <td>32</td>\n",
       "      <td>24</td>\n",
       "      <td>7</td>\n",
       "      <td>11</td>\n",
       "      <td>15</td>\n",
       "      <td>14</td>\n",
       "      <td>11</td>\n",
       "      <td>91+1</td>\n",
       "      <td>91+1</td>\n",
       "    </tr>\n",
       "    <tr>\n",
       "      <th>2</th>\n",
       "      <td>200389</td>\n",
       "      <td>https://sofifa.com/player/200389/jan-oblak/210002</td>\n",
       "      <td>J. Oblak</td>\n",
       "      <td>Jan Oblak</td>\n",
       "      <td>27</td>\n",
       "      <td>1/7/1993</td>\n",
       "      <td>188</td>\n",
       "      <td>87</td>\n",
       "      <td>Slovenia</td>\n",
       "      <td>Atlético Madrid</td>\n",
       "      <td>...</td>\n",
       "      <td>NaN</td>\n",
       "      <td>12</td>\n",
       "      <td>18</td>\n",
       "      <td>87</td>\n",
       "      <td>92</td>\n",
       "      <td>78</td>\n",
       "      <td>90</td>\n",
       "      <td>90</td>\n",
       "      <td>33+3</td>\n",
       "      <td>33+3</td>\n",
       "    </tr>\n",
       "    <tr>\n",
       "      <th>3</th>\n",
       "      <td>188545</td>\n",
       "      <td>https://sofifa.com/player/188545/robert-lewand...</td>\n",
       "      <td>R. Lewandowski</td>\n",
       "      <td>Robert Lewandowski</td>\n",
       "      <td>31</td>\n",
       "      <td>8/21/1988</td>\n",
       "      <td>184</td>\n",
       "      <td>80</td>\n",
       "      <td>Poland</td>\n",
       "      <td>FC Bayern München</td>\n",
       "      <td>...</td>\n",
       "      <td>NaN</td>\n",
       "      <td>42</td>\n",
       "      <td>19</td>\n",
       "      <td>15</td>\n",
       "      <td>6</td>\n",
       "      <td>12</td>\n",
       "      <td>8</td>\n",
       "      <td>10</td>\n",
       "      <td>89+2</td>\n",
       "      <td>89+2</td>\n",
       "    </tr>\n",
       "    <tr>\n",
       "      <th>4</th>\n",
       "      <td>190871</td>\n",
       "      <td>https://sofifa.com/player/190871/neymar-da-sil...</td>\n",
       "      <td>Neymar Jr</td>\n",
       "      <td>Neymar da Silva Santos Júnior</td>\n",
       "      <td>28</td>\n",
       "      <td>2/5/1992</td>\n",
       "      <td>175</td>\n",
       "      <td>68</td>\n",
       "      <td>Brazil</td>\n",
       "      <td>Paris Saint-Germain</td>\n",
       "      <td>...</td>\n",
       "      <td>NaN</td>\n",
       "      <td>30</td>\n",
       "      <td>29</td>\n",
       "      <td>9</td>\n",
       "      <td>9</td>\n",
       "      <td>15</td>\n",
       "      <td>15</td>\n",
       "      <td>11</td>\n",
       "      <td>84+3</td>\n",
       "      <td>84+3</td>\n",
       "    </tr>\n",
       "  </tbody>\n",
       "</table>\n",
       "<p>5 rows × 82 columns</p>\n",
       "</div>"
      ],
      "text/plain": [
       "   sofifa_id                                         player_url  \\\n",
       "0     158023  https://sofifa.com/player/158023/lionel-messi/...   \n",
       "1      20801  https://sofifa.com/player/20801/c-ronaldo-dos-...   \n",
       "2     200389  https://sofifa.com/player/200389/jan-oblak/210002   \n",
       "3     188545  https://sofifa.com/player/188545/robert-lewand...   \n",
       "4     190871  https://sofifa.com/player/190871/neymar-da-sil...   \n",
       "\n",
       "          short_name                            long_name  age        dob  \\\n",
       "0           L. Messi       Lionel Andrés Messi Cuccittini   33  6/24/1987   \n",
       "1  Cristiano Ronaldo  Cristiano Ronaldo dos Santos Aveiro   35   2/5/1985   \n",
       "2           J. Oblak                            Jan Oblak   27   1/7/1993   \n",
       "3     R. Lewandowski                   Robert Lewandowski   31  8/21/1988   \n",
       "4          Neymar Jr        Neymar da Silva Santos Júnior   28   2/5/1992   \n",
       "\n",
       "   height_cm  weight_kg nationality            club_name  ...  \\\n",
       "0        170         72   Argentina         FC Barcelona  ...   \n",
       "1        187         83    Portugal             Juventus  ...   \n",
       "2        188         87    Slovenia      Atlético Madrid  ...   \n",
       "3        184         80      Poland    FC Bayern München  ...   \n",
       "4        175         68      Brazil  Paris Saint-Germain  ...   \n",
       "\n",
       "  defending_marking  defending_standing_tackle  defending_sliding_tackle  \\\n",
       "0               NaN                         35                        24   \n",
       "1               NaN                         32                        24   \n",
       "2               NaN                         12                        18   \n",
       "3               NaN                         42                        19   \n",
       "4               NaN                         30                        29   \n",
       "\n",
       "   goalkeeping_diving  goalkeeping_handling  goalkeeping_kicking  \\\n",
       "0                   6                    11                   15   \n",
       "1                   7                    11                   15   \n",
       "2                  87                    92                   78   \n",
       "3                  15                     6                   12   \n",
       "4                   9                     9                   15   \n",
       "\n",
       "  goalkeeping_positioning goalkeeping_reflexes    ls    st  \n",
       "0                      14                    8  89+3  89+3  \n",
       "1                      14                   11  91+1  91+1  \n",
       "2                      90                   90  33+3  33+3  \n",
       "3                       8                   10  89+2  89+2  \n",
       "4                      15                   11  84+3  84+3  \n",
       "\n",
       "[5 rows x 82 columns]"
      ]
     },
     "execution_count": 4,
     "metadata": {},
     "output_type": "execute_result"
    }
   ],
   "source": [
    "fifa21 = pd.read_csv(\"datasets/fifa2021.csv\")\n",
    "fifa21.head()"
   ]
  },
  {
   "cell_type": "code",
   "execution_count": 5,
   "id": "50d13705",
   "metadata": {},
   "outputs": [
    {
     "name": "stdout",
     "output_type": "stream",
     "text": [
      "(18944, 82)\n"
     ]
    }
   ],
   "source": [
    "## Cantidad de datos\n",
    "print(fifa21.shape)"
   ]
  },
  {
   "cell_type": "code",
   "execution_count": 6,
   "id": "65562c8f",
   "metadata": {},
   "outputs": [
    {
     "data": {
      "text/plain": [
       "(18944, 75)"
      ]
     },
     "execution_count": 6,
     "metadata": {},
     "output_type": "execute_result"
    }
   ],
   "source": [
    "## Eliminamos algunas columnas con drop()\n",
    "fifa21 = fifa21.drop([\"sofifa_id\",\"player_url\",\"long_name\",\"dob\",\"team_jersey_number\",\"ls\",\"st\"], axis=1)\n",
    "fifa21.shape"
   ]
  },
  {
   "cell_type": "code",
   "execution_count": 8,
   "id": "1d0ffb92",
   "metadata": {},
   "outputs": [
    {
     "name": "stdout",
     "output_type": "stream",
     "text": [
      "Index(['club_name', 'league_name', 'league_rank', 'release_clause_eur',\n",
      "       'player_tags', 'team_position', 'loaned_from', 'joined',\n",
      "       'contract_valid_until', 'nation_position', 'nation_jersey_number',\n",
      "       'pace', 'shooting', 'passing', 'dribbling', 'defending', 'physic',\n",
      "       'gk_diving', 'gk_handling', 'gk_kicking', 'gk_reflexes', 'gk_speed',\n",
      "       'gk_positioning', 'player_traits', 'defending_marking'],\n",
      "      dtype='object')\n"
     ]
    }
   ],
   "source": [
    "## Chequeamos si tenemos columnas con valores NaN (al menos uno)\n",
    "print(fifa21.columns[fifa21.isna().any()])"
   ]
  },
  {
   "cell_type": "markdown",
   "id": "f6181e98",
   "metadata": {},
   "source": [
    "Vemos que varias columnas tienen al menos un valor NaN. Por simplicidad vamos a quitar dichas columnas."
   ]
  },
  {
   "cell_type": "code",
   "execution_count": 9,
   "id": "0dd180bf",
   "metadata": {},
   "outputs": [],
   "source": [
    "fifa21 = fifa21.drop(['league_rank', 'release_clause_eur',\n",
    "       'player_tags', 'team_position', 'loaned_from', 'joined',\n",
    "       'contract_valid_until', 'nation_position', 'nation_jersey_number',\n",
    "       'pace', 'shooting', 'passing', 'dribbling', 'defending', 'physic',\n",
    "       'gk_diving', 'gk_handling', 'gk_kicking', 'gk_reflexes', 'gk_speed',\n",
    "       'gk_positioning', 'player_traits', 'defending_marking','real_face'], axis = 1)"
   ]
  },
  {
   "cell_type": "code",
   "execution_count": 10,
   "id": "4cda385a",
   "metadata": {},
   "outputs": [
    {
     "data": {
      "text/html": [
       "<div>\n",
       "<style scoped>\n",
       "    .dataframe tbody tr th:only-of-type {\n",
       "        vertical-align: middle;\n",
       "    }\n",
       "\n",
       "    .dataframe tbody tr th {\n",
       "        vertical-align: top;\n",
       "    }\n",
       "\n",
       "    .dataframe thead th {\n",
       "        text-align: right;\n",
       "    }\n",
       "</style>\n",
       "<table border=\"1\" class=\"dataframe\">\n",
       "  <thead>\n",
       "    <tr style=\"text-align: right;\">\n",
       "      <th></th>\n",
       "      <th>short_name</th>\n",
       "      <th>age</th>\n",
       "      <th>height_cm</th>\n",
       "      <th>weight_kg</th>\n",
       "      <th>nationality</th>\n",
       "      <th>club_name</th>\n",
       "      <th>league_name</th>\n",
       "      <th>overall</th>\n",
       "      <th>potential</th>\n",
       "      <th>value_eur</th>\n",
       "      <th>...</th>\n",
       "      <th>mentality_vision</th>\n",
       "      <th>mentality_penalties</th>\n",
       "      <th>mentality_composure</th>\n",
       "      <th>defending_standing_tackle</th>\n",
       "      <th>defending_sliding_tackle</th>\n",
       "      <th>goalkeeping_diving</th>\n",
       "      <th>goalkeeping_handling</th>\n",
       "      <th>goalkeeping_kicking</th>\n",
       "      <th>goalkeeping_positioning</th>\n",
       "      <th>goalkeeping_reflexes</th>\n",
       "    </tr>\n",
       "  </thead>\n",
       "  <tbody>\n",
       "    <tr>\n",
       "      <th>0</th>\n",
       "      <td>L. Messi</td>\n",
       "      <td>33</td>\n",
       "      <td>170</td>\n",
       "      <td>72</td>\n",
       "      <td>Argentina</td>\n",
       "      <td>FC Barcelona</td>\n",
       "      <td>Spain Primera Division</td>\n",
       "      <td>93</td>\n",
       "      <td>93</td>\n",
       "      <td>67500000</td>\n",
       "      <td>...</td>\n",
       "      <td>95</td>\n",
       "      <td>75</td>\n",
       "      <td>96</td>\n",
       "      <td>35</td>\n",
       "      <td>24</td>\n",
       "      <td>6</td>\n",
       "      <td>11</td>\n",
       "      <td>15</td>\n",
       "      <td>14</td>\n",
       "      <td>8</td>\n",
       "    </tr>\n",
       "    <tr>\n",
       "      <th>1</th>\n",
       "      <td>Cristiano Ronaldo</td>\n",
       "      <td>35</td>\n",
       "      <td>187</td>\n",
       "      <td>83</td>\n",
       "      <td>Portugal</td>\n",
       "      <td>Juventus</td>\n",
       "      <td>Italian Serie A</td>\n",
       "      <td>92</td>\n",
       "      <td>92</td>\n",
       "      <td>46000000</td>\n",
       "      <td>...</td>\n",
       "      <td>82</td>\n",
       "      <td>84</td>\n",
       "      <td>95</td>\n",
       "      <td>32</td>\n",
       "      <td>24</td>\n",
       "      <td>7</td>\n",
       "      <td>11</td>\n",
       "      <td>15</td>\n",
       "      <td>14</td>\n",
       "      <td>11</td>\n",
       "    </tr>\n",
       "    <tr>\n",
       "      <th>2</th>\n",
       "      <td>J. Oblak</td>\n",
       "      <td>27</td>\n",
       "      <td>188</td>\n",
       "      <td>87</td>\n",
       "      <td>Slovenia</td>\n",
       "      <td>Atlético Madrid</td>\n",
       "      <td>Spain Primera Division</td>\n",
       "      <td>91</td>\n",
       "      <td>93</td>\n",
       "      <td>75000000</td>\n",
       "      <td>...</td>\n",
       "      <td>65</td>\n",
       "      <td>11</td>\n",
       "      <td>68</td>\n",
       "      <td>12</td>\n",
       "      <td>18</td>\n",
       "      <td>87</td>\n",
       "      <td>92</td>\n",
       "      <td>78</td>\n",
       "      <td>90</td>\n",
       "      <td>90</td>\n",
       "    </tr>\n",
       "    <tr>\n",
       "      <th>3</th>\n",
       "      <td>R. Lewandowski</td>\n",
       "      <td>31</td>\n",
       "      <td>184</td>\n",
       "      <td>80</td>\n",
       "      <td>Poland</td>\n",
       "      <td>FC Bayern München</td>\n",
       "      <td>German 1. Bundesliga</td>\n",
       "      <td>91</td>\n",
       "      <td>91</td>\n",
       "      <td>80000000</td>\n",
       "      <td>...</td>\n",
       "      <td>79</td>\n",
       "      <td>88</td>\n",
       "      <td>88</td>\n",
       "      <td>42</td>\n",
       "      <td>19</td>\n",
       "      <td>15</td>\n",
       "      <td>6</td>\n",
       "      <td>12</td>\n",
       "      <td>8</td>\n",
       "      <td>10</td>\n",
       "    </tr>\n",
       "    <tr>\n",
       "      <th>4</th>\n",
       "      <td>Neymar Jr</td>\n",
       "      <td>28</td>\n",
       "      <td>175</td>\n",
       "      <td>68</td>\n",
       "      <td>Brazil</td>\n",
       "      <td>Paris Saint-Germain</td>\n",
       "      <td>French Ligue 1</td>\n",
       "      <td>91</td>\n",
       "      <td>91</td>\n",
       "      <td>90000000</td>\n",
       "      <td>...</td>\n",
       "      <td>90</td>\n",
       "      <td>92</td>\n",
       "      <td>93</td>\n",
       "      <td>30</td>\n",
       "      <td>29</td>\n",
       "      <td>9</td>\n",
       "      <td>9</td>\n",
       "      <td>15</td>\n",
       "      <td>15</td>\n",
       "      <td>11</td>\n",
       "    </tr>\n",
       "    <tr>\n",
       "      <th>...</th>\n",
       "      <td>...</td>\n",
       "      <td>...</td>\n",
       "      <td>...</td>\n",
       "      <td>...</td>\n",
       "      <td>...</td>\n",
       "      <td>...</td>\n",
       "      <td>...</td>\n",
       "      <td>...</td>\n",
       "      <td>...</td>\n",
       "      <td>...</td>\n",
       "      <td>...</td>\n",
       "      <td>...</td>\n",
       "      <td>...</td>\n",
       "      <td>...</td>\n",
       "      <td>...</td>\n",
       "      <td>...</td>\n",
       "      <td>...</td>\n",
       "      <td>...</td>\n",
       "      <td>...</td>\n",
       "      <td>...</td>\n",
       "      <td>...</td>\n",
       "    </tr>\n",
       "    <tr>\n",
       "      <th>18939</th>\n",
       "      <td>K. Angulo</td>\n",
       "      <td>24</td>\n",
       "      <td>176</td>\n",
       "      <td>73</td>\n",
       "      <td>Colombia</td>\n",
       "      <td>América de Cali</td>\n",
       "      <td>Colombian Liga Postobón</td>\n",
       "      <td>47</td>\n",
       "      <td>52</td>\n",
       "      <td>40000</td>\n",
       "      <td>...</td>\n",
       "      <td>49</td>\n",
       "      <td>39</td>\n",
       "      <td>36</td>\n",
       "      <td>39</td>\n",
       "      <td>54</td>\n",
       "      <td>10</td>\n",
       "      <td>9</td>\n",
       "      <td>14</td>\n",
       "      <td>6</td>\n",
       "      <td>6</td>\n",
       "    </tr>\n",
       "    <tr>\n",
       "      <th>18940</th>\n",
       "      <td>Zhang Mengxuan</td>\n",
       "      <td>21</td>\n",
       "      <td>177</td>\n",
       "      <td>70</td>\n",
       "      <td>China PR</td>\n",
       "      <td>Chongqing Dangdai Lifan FC SWM Team</td>\n",
       "      <td>Chinese Super League</td>\n",
       "      <td>47</td>\n",
       "      <td>52</td>\n",
       "      <td>35000</td>\n",
       "      <td>...</td>\n",
       "      <td>25</td>\n",
       "      <td>35</td>\n",
       "      <td>40</td>\n",
       "      <td>56</td>\n",
       "      <td>47</td>\n",
       "      <td>12</td>\n",
       "      <td>13</td>\n",
       "      <td>8</td>\n",
       "      <td>14</td>\n",
       "      <td>6</td>\n",
       "    </tr>\n",
       "    <tr>\n",
       "      <th>18941</th>\n",
       "      <td>Wang Zhenghao</td>\n",
       "      <td>20</td>\n",
       "      <td>185</td>\n",
       "      <td>74</td>\n",
       "      <td>China PR</td>\n",
       "      <td>Tianjin TEDA FC</td>\n",
       "      <td>Chinese Super League</td>\n",
       "      <td>47</td>\n",
       "      <td>51</td>\n",
       "      <td>35000</td>\n",
       "      <td>...</td>\n",
       "      <td>25</td>\n",
       "      <td>35</td>\n",
       "      <td>40</td>\n",
       "      <td>55</td>\n",
       "      <td>45</td>\n",
       "      <td>12</td>\n",
       "      <td>9</td>\n",
       "      <td>14</td>\n",
       "      <td>15</td>\n",
       "      <td>13</td>\n",
       "    </tr>\n",
       "    <tr>\n",
       "      <th>18942</th>\n",
       "      <td>Chen Zitong</td>\n",
       "      <td>23</td>\n",
       "      <td>186</td>\n",
       "      <td>80</td>\n",
       "      <td>China PR</td>\n",
       "      <td>Shijiazhuang Ever Bright F.C.</td>\n",
       "      <td>Chinese Super League</td>\n",
       "      <td>47</td>\n",
       "      <td>51</td>\n",
       "      <td>40000</td>\n",
       "      <td>...</td>\n",
       "      <td>45</td>\n",
       "      <td>42</td>\n",
       "      <td>43</td>\n",
       "      <td>49</td>\n",
       "      <td>45</td>\n",
       "      <td>15</td>\n",
       "      <td>7</td>\n",
       "      <td>7</td>\n",
       "      <td>5</td>\n",
       "      <td>13</td>\n",
       "    </tr>\n",
       "    <tr>\n",
       "      <th>18943</th>\n",
       "      <td>Song Yue</td>\n",
       "      <td>28</td>\n",
       "      <td>185</td>\n",
       "      <td>79</td>\n",
       "      <td>China PR</td>\n",
       "      <td>Tianjin TEDA FC</td>\n",
       "      <td>Chinese Super League</td>\n",
       "      <td>47</td>\n",
       "      <td>47</td>\n",
       "      <td>30000</td>\n",
       "      <td>...</td>\n",
       "      <td>44</td>\n",
       "      <td>36</td>\n",
       "      <td>35</td>\n",
       "      <td>43</td>\n",
       "      <td>45</td>\n",
       "      <td>8</td>\n",
       "      <td>5</td>\n",
       "      <td>11</td>\n",
       "      <td>5</td>\n",
       "      <td>7</td>\n",
       "    </tr>\n",
       "  </tbody>\n",
       "</table>\n",
       "<p>18944 rows × 51 columns</p>\n",
       "</div>"
      ],
      "text/plain": [
       "              short_name  age  height_cm  weight_kg nationality  \\\n",
       "0               L. Messi   33        170         72   Argentina   \n",
       "1      Cristiano Ronaldo   35        187         83    Portugal   \n",
       "2               J. Oblak   27        188         87    Slovenia   \n",
       "3         R. Lewandowski   31        184         80      Poland   \n",
       "4              Neymar Jr   28        175         68      Brazil   \n",
       "...                  ...  ...        ...        ...         ...   \n",
       "18939          K. Angulo   24        176         73    Colombia   \n",
       "18940     Zhang Mengxuan   21        177         70    China PR   \n",
       "18941      Wang Zhenghao   20        185         74    China PR   \n",
       "18942        Chen Zitong   23        186         80    China PR   \n",
       "18943           Song Yue   28        185         79    China PR   \n",
       "\n",
       "                                 club_name              league_name  overall  \\\n",
       "0                             FC Barcelona   Spain Primera Division       93   \n",
       "1                                 Juventus          Italian Serie A       92   \n",
       "2                          Atlético Madrid   Spain Primera Division       91   \n",
       "3                        FC Bayern München     German 1. Bundesliga       91   \n",
       "4                      Paris Saint-Germain           French Ligue 1       91   \n",
       "...                                    ...                      ...      ...   \n",
       "18939                      América de Cali  Colombian Liga Postobón       47   \n",
       "18940  Chongqing Dangdai Lifan FC SWM Team     Chinese Super League       47   \n",
       "18941                      Tianjin TEDA FC     Chinese Super League       47   \n",
       "18942        Shijiazhuang Ever Bright F.C.     Chinese Super League       47   \n",
       "18943                      Tianjin TEDA FC     Chinese Super League       47   \n",
       "\n",
       "       potential  value_eur  ...  mentality_vision mentality_penalties  \\\n",
       "0             93   67500000  ...                95                  75   \n",
       "1             92   46000000  ...                82                  84   \n",
       "2             93   75000000  ...                65                  11   \n",
       "3             91   80000000  ...                79                  88   \n",
       "4             91   90000000  ...                90                  92   \n",
       "...          ...        ...  ...               ...                 ...   \n",
       "18939         52      40000  ...                49                  39   \n",
       "18940         52      35000  ...                25                  35   \n",
       "18941         51      35000  ...                25                  35   \n",
       "18942         51      40000  ...                45                  42   \n",
       "18943         47      30000  ...                44                  36   \n",
       "\n",
       "      mentality_composure  defending_standing_tackle  \\\n",
       "0                      96                         35   \n",
       "1                      95                         32   \n",
       "2                      68                         12   \n",
       "3                      88                         42   \n",
       "4                      93                         30   \n",
       "...                   ...                        ...   \n",
       "18939                  36                         39   \n",
       "18940                  40                         56   \n",
       "18941                  40                         55   \n",
       "18942                  43                         49   \n",
       "18943                  35                         43   \n",
       "\n",
       "       defending_sliding_tackle  goalkeeping_diving goalkeeping_handling  \\\n",
       "0                            24                   6                   11   \n",
       "1                            24                   7                   11   \n",
       "2                            18                  87                   92   \n",
       "3                            19                  15                    6   \n",
       "4                            29                   9                    9   \n",
       "...                         ...                 ...                  ...   \n",
       "18939                        54                  10                    9   \n",
       "18940                        47                  12                   13   \n",
       "18941                        45                  12                    9   \n",
       "18942                        45                  15                    7   \n",
       "18943                        45                   8                    5   \n",
       "\n",
       "      goalkeeping_kicking  goalkeeping_positioning  goalkeeping_reflexes  \n",
       "0                      15                       14                     8  \n",
       "1                      15                       14                    11  \n",
       "2                      78                       90                    90  \n",
       "3                      12                        8                    10  \n",
       "4                      15                       15                    11  \n",
       "...                   ...                      ...                   ...  \n",
       "18939                  14                        6                     6  \n",
       "18940                   8                       14                     6  \n",
       "18941                  14                       15                    13  \n",
       "18942                   7                        5                    13  \n",
       "18943                  11                        5                     7  \n",
       "\n",
       "[18944 rows x 51 columns]"
      ]
     },
     "execution_count": 10,
     "metadata": {},
     "output_type": "execute_result"
    }
   ],
   "source": [
    "fifa21.shape\n",
    "fifa21"
   ]
  },
  {
   "cell_type": "markdown",
   "id": "00bd6195",
   "metadata": {},
   "source": [
    "Ahora vamos a chequear si tenemos algún valor Nan dentro del DataFrame."
   ]
  },
  {
   "cell_type": "code",
   "execution_count": 11,
   "id": "fad46c93",
   "metadata": {},
   "outputs": [
    {
     "data": {
      "text/plain": [
       "True"
      ]
     },
     "execution_count": 11,
     "metadata": {},
     "output_type": "execute_result"
    }
   ],
   "source": [
    "fifa21.isna().any().any()"
   ]
  },
  {
   "cell_type": "markdown",
   "id": "b1b11f04",
   "metadata": {},
   "source": [
    "Vemos que *fifa21.isna().any().any()* nos arroja *True*, indicando que tenemos valores NaN.\n",
    "\n",
    "Cuando hacemos\n",
    "\n",
    "```python\n",
    "fifa21.isna().any().any()\n",
    "```\n",
    "\n",
    "Estamos evaluando si algún valor dentro del objeto *Series* de pandas devuelto al hacer *fifa21.isna().any()* tiene algún valor True. Como al menos un valor dentro del objeto *Series* posee un valor True, *fifa21.isna().any().any()* nos arroja True."
   ]
  },
  {
   "cell_type": "code",
   "execution_count": 12,
   "id": "bf39114c",
   "metadata": {},
   "outputs": [],
   "source": [
    "## Nos quedamos con aquellos datos que tienen nombres de club que no sean NA\n",
    "fifa21 = fifa21[fifa21[\"club_name\"].notna()]\n",
    "\n",
    "## Nos quedamos con aquellos datos que tienen nombres de liga que no sean NA\n",
    "fifa21 = fifa21[fifa21[\"league_name\"].notna()]"
   ]
  },
  {
   "cell_type": "code",
   "execution_count": 13,
   "id": "99d7782b",
   "metadata": {},
   "outputs": [],
   "source": [
    "## El resto lo llenamos de cero\n",
    "fifa21 = fifa21.fillna(0)"
   ]
  },
  {
   "cell_type": "markdown",
   "id": "ebcfffb4",
   "metadata": {},
   "source": [
    "¿Estamos seguros que hemos sacado todos los valores NaN?"
   ]
  },
  {
   "cell_type": "code",
   "execution_count": 14,
   "id": "0119b78a",
   "metadata": {},
   "outputs": [
    {
     "data": {
      "text/plain": [
       "False"
      ]
     },
     "execution_count": 14,
     "metadata": {},
     "output_type": "execute_result"
    }
   ],
   "source": [
    "fifa21.isnull().values.any()"
   ]
  },
  {
   "cell_type": "markdown",
   "id": "7f80b462",
   "metadata": {},
   "source": [
    "Por lo que podemos ver, ¡sí!"
   ]
  },
  {
   "cell_type": "markdown",
   "id": "1c0ed994",
   "metadata": {},
   "source": [
    "##### <span style='color:#5DADE2'>Chequeando valores *Null*</span>\n",
    "\n",
    "Podríamos tener valores *Null* dentro del dataframe. Pandas ofrece un método para chequear la presencia de este tipo de valores, el mismo es *.isnull()*.\n",
    "\n",
    "Veamos si tenemos datos null."
   ]
  },
  {
   "cell_type": "code",
   "execution_count": 15,
   "id": "b886fdaa",
   "metadata": {},
   "outputs": [
    {
     "data": {
      "text/plain": [
       "False"
      ]
     },
     "execution_count": 15,
     "metadata": {},
     "output_type": "execute_result"
    }
   ],
   "source": [
    "fifa21.isnull().values.any()"
   ]
  },
  {
   "cell_type": "markdown",
   "id": "7a61084a",
   "metadata": {},
   "source": [
    "Por lo que podemos ver, no tenemos valores *null* dentro de nuestro set de datos.\n",
    "\n",
    "Ahora podemos empezar a trabajar con el dataframe.\n",
    "\n",
    "Empecemos..."
   ]
  },
  {
   "cell_type": "code",
   "execution_count": 16,
   "id": "e853b00f",
   "metadata": {},
   "outputs": [
    {
     "name": "stdout",
     "output_type": "stream",
     "text": [
      "Cantidad de filas/observaciones 18719\n",
      "Cantidad de variables/columnas 51\n"
     ]
    }
   ],
   "source": [
    "print(f\"Cantidad de filas/observaciones {fifa21.shape[0]}\")\n",
    "print(f\"Cantidad de variables/columnas {fifa21.shape[1]}\")"
   ]
  },
  {
   "cell_type": "markdown",
   "id": "fade27a0",
   "metadata": {},
   "source": [
    "##### <span style='color:#5DADE2'>¿Cuantos y qué paises tenemos en el set de datos?</span>\n",
    "\n",
    "Podríamos usar [*pandas.unique(values)*](https://pandas.pydata.org/docs/reference/api/pandas.unique.html) para determinar los jugadores por países de la siguiente manera."
   ]
  },
  {
   "cell_type": "code",
   "execution_count": 17,
   "id": "f90288b3",
   "metadata": {},
   "outputs": [
    {
     "name": "stdout",
     "output_type": "stream",
     "text": [
      "Cantidad de países en el set 161\n"
     ]
    },
    {
     "data": {
      "text/plain": [
       "array(['Argentina', 'Portugal', 'Slovenia', 'Poland', 'Brazil', 'Belgium',\n",
       "       'France', 'Germany', 'Netherlands', 'Senegal', 'Egypt', 'Spain',\n",
       "       'England', 'Scotland', 'Italy', 'Uruguay', 'Croatia', 'Gabon',\n",
       "       'Costa Rica', 'Korea Republic', 'Switzerland', 'Serbia',\n",
       "       'Slovakia', 'Morocco', 'Bosnia Herzegovina', 'Hungary', 'Denmark',\n",
       "       'Algeria', 'Norway', 'Cameroon', 'Nigeria', 'Ghana', 'Mexico',\n",
       "       'Austria', 'Albania', 'Greece', 'Sweden', 'Wales', 'Chile',\n",
       "       'Finland', 'Ivory Coast', 'Colombia', 'Togo', 'Czech Republic',\n",
       "       'Russia', 'Canada', 'United States', 'Guinea', 'Montenegro',\n",
       "       'Venezuela', 'Ukraine', 'Republic of Ireland', 'Israel', 'Jamaica',\n",
       "       'Turkey', 'Australia', 'Northern Ireland', 'China PR', 'Armenia',\n",
       "       'DR Congo', 'Ecuador', 'Kosovo', 'North Macedonia',\n",
       "       'Central African Republic', 'Iceland', 'Peru', 'Mali',\n",
       "       'Burkina Faso', 'Paraguay', 'Romania', 'New Zealand', 'Japan',\n",
       "       'Cape Verde', 'Tunisia', 'Angola', 'Dominican Republic', 'Syria',\n",
       "       'Iran', 'Zambia', 'Panama', 'Georgia', 'Equatorial Guinea',\n",
       "       'Tanzania', 'Kenya', 'Honduras', 'Congo', 'Guinea Bissau',\n",
       "       'Zimbabwe', 'South Africa', 'Iraq', 'Madagascar', 'Moldova',\n",
       "       'Curacao', 'Cuba', 'Mozambique', 'Gambia', 'Cyprus', 'Estonia',\n",
       "       'Benin', 'Lithuania', 'Saudi Arabia', 'Liberia', 'Bulgaria',\n",
       "       'Libya', 'Philippines', 'Sierra Leone', 'Uzbekistan',\n",
       "       'Saint Kitts and Nevis', 'United Arab Emirates', 'Comoros', 'Chad',\n",
       "       'Namibia', 'Thailand', 'Bermuda', 'Luxembourg',\n",
       "       'Trinidad & Tobago', 'Antigua & Barbuda', 'Burundi', 'Kazakhstan',\n",
       "       'New Caledonia', 'Puerto Rico', 'Bolivia', 'Eritrea', 'Latvia',\n",
       "       'Montserrat', 'São Tomé & Príncipe', 'Malawi', 'Mauritania',\n",
       "       'El Salvador', 'Haiti', 'Uganda', 'Chinese Taipei', 'Aruba',\n",
       "       'Faroe Islands', 'Guyana', 'Azerbaijan', 'Afghanistan', 'Sudan',\n",
       "       'Guam', 'Belarus', 'Rwanda', 'Grenada', 'Palestine', 'Lebanon',\n",
       "       'Papua New Guinea', 'Jordan', 'Saint Lucia', 'Liechtenstein',\n",
       "       'Ethiopia', 'Belize', 'Niger', 'Malta', 'Andorra', 'Barbados',\n",
       "       'South Sudan', 'Macau', 'Korea DPR', 'Hong Kong', 'Malaysia',\n",
       "       'Indonesia', 'Nicaragua'], dtype=object)"
      ]
     },
     "execution_count": 17,
     "metadata": {},
     "output_type": "execute_result"
    }
   ],
   "source": [
    "print(f\"Cantidad de países en el set {len(fifa21['nationality'].unique())}\")\n",
    "fifa21['nationality'].unique()"
   ]
  },
  {
   "cell_type": "markdown",
   "id": "aab43108",
   "metadata": {},
   "source": [
    "### <span style='color:#EC7063'>Ejercicios para punto 5</span>\n",
    "\n",
    "A partir de acá usted debe resolver lo que se pide."
   ]
  },
  {
   "cell_type": "markdown",
   "id": "635360b5",
   "metadata": {},
   "source": [
    "##### 5.1 Jugadores de Uruguay y Argentina\n",
    "\n",
    "¿Qué y cuántos jugadores de Uruguay tenemos en el set de datos? ¿Cuales y cuantos de Argen tina?\n",
    "\n",
    "Podemos responder a la pregunta aplicando lo que hemos visto. A continuación se muestra un ejemplo para obtener los jugadores de Uruguay. Repita para Argentina (y otros países si quisiera)."
   ]
  },
  {
   "cell_type": "code",
   "execution_count": 18,
   "id": "271a1507",
   "metadata": {},
   "outputs": [
    {
     "name": "stdout",
     "output_type": "stream",
     "text": [
      "Cantidad de jugadores de Uruguay en el set de datos 311\n",
      "\n",
      "Lista\n",
      "10163         A. Ale\n",
      "18260      A. Alfaro\n",
      "7255      A. Argachá\n",
      "17428     A. Barboza\n",
      "9672     A. Canobbio\n",
      "            ...     \n",
      "18088    T. Galletto\n",
      "6424       T. Vecino\n",
      "6194      W. Camacho\n",
      "2818      W. Gargano\n",
      "7581     Y. Calleros\n",
      "Name: short_name, Length: 311, dtype: object\n"
     ]
    }
   ],
   "source": [
    "jugadoresUruguay = fifa21[fifa21[\"nationality\"] == \"Uruguay\"].drop_duplicates(subset = \"short_name\")[\"short_name\"].sort_values()\n",
    "print(f\"Cantidad de jugadores de Uruguay en el set de datos {jugadoresUruguay.shape[0]}\")\n",
    "print()\n",
    "print(\"Lista\")\n",
    "print(jugadoresUruguay)"
   ]
  },
  {
   "cell_type": "code",
   "execution_count": 19,
   "id": "2d84ae23",
   "metadata": {},
   "outputs": [
    {
     "name": "stdout",
     "output_type": "stream",
     "text": [
      "Cantidad de jugadores de Argentina en el set de datos 898\n",
      "\n",
      "Lista\n",
      "2236       A. Aguerre\n",
      "16751      A. Aguirre\n",
      "12067         A. Aleo\n",
      "7362      A. Almendra\n",
      "9696       A. Antilef\n",
      "             ...     \n",
      "1772     W. Caballero\n",
      "2997       W. Montoya\n",
      "15455        W. Ortíz\n",
      "3392          Y. Asad\n",
      "15529       Y. Juárez\n",
      "Name: short_name, Length: 898, dtype: object\n"
     ]
    }
   ],
   "source": [
    "## TODO 5.1\n",
    "jugadoresArgentina = fifa21[fifa21[\"nationality\"] == \"Argentina\"].drop_duplicates(subset = \"short_name\")[\"short_name\"].sort_values()\n",
    "print(f\"Cantidad de jugadores de Argentina en el set de datos {jugadoresArgentina.shape[0]}\")\n",
    "print()\n",
    "print(\"Lista\")\n",
    "print(jugadoresArgentina)"
   ]
  },
  {
   "cell_type": "markdown",
   "id": "cc8d9cbb",
   "metadata": {},
   "source": [
    "##### 5.2 Un poco de análisis sobre jugadores uruguayos\n",
    "\n",
    "1. ¿Cuales son las ligas donde juegan los jugadores de nacionalidad uruguaya según el set de datos?\n",
    "2. ¿Cuál es la liga con mayor cantidad de jugadores uruguayos? ¿Qué valor tiene? ¿Cuál es la segunda liga con mayor presencia de jugadores uruguayos?\n",
    "3. ¿Cuantos jugadores uruguayos juegan en la liga *Spain Primera Division*? ¿Quienes son?\n",
    "4. Tomando solo la liga *Spain Primera Division*, ¿cuál es la proporción de jugadores uruguayos? Es decir, cuantos jugadores de nacionalidad uruguaya juegan en la *Spain Primera Division* respecto de todos los que juegan en la *Spain Primera Division*. Reporte un valor porcentual $\\%$\n",
    "5. ¿Cuales son los porcentajes de jugadores uruguayos de *pie derecho* y *pie izquierdo*?\n",
    "6. Realice un histograma con las edades de los jugadores uruguayos dentro del dataset.\n",
    "7. ¿Cuál es el jugador más caro? ¿Cuál el más barato?"
   ]
  },
  {
   "cell_type": "code",
   "execution_count": 41,
   "id": "30a91be3",
   "metadata": {},
   "outputs": [],
   "source": [
    "## TODO 5.2"
   ]
  },
  {
   "cell_type": "markdown",
   "id": "c7129b51",
   "metadata": {},
   "source": [
    "##### 5.3 Top 20 países con mayores jugadores\n",
    "\n",
    "Realice un gráfico de barras horizontal (*kind = 'barh'*) donde se muestre la cantidad de jugadores de los 20 países con mayores cantidades de jugadores."
   ]
  },
  {
   "cell_type": "code",
   "execution_count": 42,
   "id": "e1d7525c",
   "metadata": {},
   "outputs": [],
   "source": [
    "## TODO 5.3"
   ]
  },
  {
   "cell_type": "markdown",
   "id": "db467a16",
   "metadata": {},
   "source": [
    "##### 5.4 Puntaje total (*overall*) vs potencial (*potential*)\n",
    "\n",
    "El set de datos cuenta con las columnas llamadas *overall* y *potential*. El *overall* es un puntaje que va de 0 a 100 y representa la media ponderada de todas las habilidades (ej. *skill_dribbling*, *movement_sprint_speed*, etc) para un cierto jugador. Por otro lado, el *potential* o *potencial* es una estimación de si el jugador puede dar más en un futuro.\n",
    "\n",
    "Por ejemplo,"
   ]
  },
  {
   "cell_type": "code",
   "execution_count": 23,
   "id": "964f09f3",
   "metadata": {},
   "outputs": [
    {
     "data": {
      "text/html": [
       "<div>\n",
       "<style scoped>\n",
       "    .dataframe tbody tr th:only-of-type {\n",
       "        vertical-align: middle;\n",
       "    }\n",
       "\n",
       "    .dataframe tbody tr th {\n",
       "        vertical-align: top;\n",
       "    }\n",
       "\n",
       "    .dataframe thead th {\n",
       "        text-align: right;\n",
       "    }\n",
       "</style>\n",
       "<table border=\"1\" class=\"dataframe\">\n",
       "  <thead>\n",
       "    <tr style=\"text-align: right;\">\n",
       "      <th></th>\n",
       "      <th>overall</th>\n",
       "      <th>potential</th>\n",
       "    </tr>\n",
       "    <tr>\n",
       "      <th>short_name</th>\n",
       "      <th></th>\n",
       "      <th></th>\n",
       "    </tr>\n",
       "  </thead>\n",
       "  <tbody>\n",
       "    <tr>\n",
       "      <th>L. Messi</th>\n",
       "      <td>93</td>\n",
       "      <td>93</td>\n",
       "    </tr>\n",
       "    <tr>\n",
       "      <th>K. Mbappé</th>\n",
       "      <td>90</td>\n",
       "      <td>95</td>\n",
       "    </tr>\n",
       "  </tbody>\n",
       "</table>\n",
       "</div>"
      ],
      "text/plain": [
       "            overall  potential\n",
       "short_name                    \n",
       "L. Messi         93         93\n",
       "K. Mbappé        90         95"
      ]
     },
     "execution_count": 23,
     "metadata": {},
     "output_type": "execute_result"
    }
   ],
   "source": [
    "filtromessi = fifa21[\"short_name\"] == \"L. Messi\"\n",
    "filtrombappe = fifa21[\"short_name\"] == \"K. Mbappé\"\n",
    "fifa21[filtromessi | filtrombappe][[\"short_name\",\"overall\",\"potential\"]].set_index(\"short_name\")\n"
   ]
  },
  {
   "cell_type": "code",
   "execution_count": 50,
   "id": "7d9beda4",
   "metadata": {},
   "outputs": [],
   "source": [
    "import matplotlib.pyplot as plt\n",
    "import numpy as np"
   ]
  },
  {
   "cell_type": "markdown",
   "id": "6f5743af",
   "metadata": {},
   "source": [
    "Podemos ver del dataframe anterior que Messi esta dando todo lo que puede dar, mientras que Mbappe aún podría dar un poco más según las estimaciones del FIFA."
   ]
  },
  {
   "cell_type": "markdown",
   "id": "4f4b5956",
   "metadata": {},
   "source": [
    "Se le pide que grafique un histograma considerando el dataframe completo donde se pueda ver la frecuencia para *overall* y para *potential*."
   ]
  },
  {
   "cell_type": "code",
   "execution_count": 60,
   "id": "402071fe",
   "metadata": {},
   "outputs": [
    {
     "data": {
      "image/png": "[encoded data removed]",
      "text/plain": [
       "<Figure size 432x288 with 1 Axes>"
      ]
     },
     "metadata": {
      "needs_background": "light"
     },
     "output_type": "display_data"
    },
    {
     "data": {
      "image/png": "[encoded data removed]",
      "text/plain": [
       "<Figure size 432x288 with 1 Axes>"
      ]
     },
     "metadata": {
      "needs_background": "light"
     },
     "output_type": "display_data"
    }
   ],
   "source": [
    "##TODO 5.4\n",
    "overall=fifa21[[\"overall\"]]\n",
    "potential=fifa21[[\"potential\"]]\n",
    "hist=overall.hist(bins=range(int(overall.min()),int(overall.max())))\n",
    "hist2=potential.hist(bins=range(int(potential.min()),int(potential.max())))\n"
   ]
  },
  {
   "cell_type": "markdown",
   "id": "8e453d40",
   "metadata": {},
   "source": [
    "##### 5.5  Analizando datos por posiciones\n",
    "\n",
    "Si se observa la columna *player_positions* del set de datos podemos ver en qué posiciones juega cierto jugador.\n",
    "\n",
    "En base al juego, las posiciones pueden resumirse en:\n",
    "\n",
    "- 'ST','CF','RW','LW' = Atacante\n",
    "- 'LM','RM','CM','CDM','CAM', \"RWB\" = Mediocampista\n",
    "- 'LB','RB','CB', 'LWB' = Defensor\n",
    "- 'GK' = Arquero\n",
    "\n",
    "Ejemplo"
   ]
  },
  {
   "cell_type": "code",
   "execution_count": 45,
   "id": "558948f3",
   "metadata": {},
   "outputs": [
    {
     "data": {
      "text/html": [
       "<div>\n",
       "<style scoped>\n",
       "    .dataframe tbody tr th:only-of-type {\n",
       "        vertical-align: middle;\n",
       "    }\n",
       "\n",
       "    .dataframe tbody tr th {\n",
       "        vertical-align: top;\n",
       "    }\n",
       "\n",
       "    .dataframe thead th {\n",
       "        text-align: right;\n",
       "    }\n",
       "</style>\n",
       "<table border=\"1\" class=\"dataframe\">\n",
       "  <thead>\n",
       "    <tr style=\"text-align: right;\">\n",
       "      <th></th>\n",
       "      <th>player_positions</th>\n",
       "    </tr>\n",
       "    <tr>\n",
       "      <th>short_name</th>\n",
       "      <th></th>\n",
       "    </tr>\n",
       "  </thead>\n",
       "  <tbody>\n",
       "    <tr>\n",
       "      <th>L. Messi</th>\n",
       "      <td>RW, ST, CF</td>\n",
       "    </tr>\n",
       "    <tr>\n",
       "      <th>Cristiano Ronaldo</th>\n",
       "      <td>ST, LW</td>\n",
       "    </tr>\n",
       "    <tr>\n",
       "      <th>J. Oblak</th>\n",
       "      <td>GK</td>\n",
       "    </tr>\n",
       "    <tr>\n",
       "      <th>R. Lewandowski</th>\n",
       "      <td>ST</td>\n",
       "    </tr>\n",
       "    <tr>\n",
       "      <th>Neymar Jr</th>\n",
       "      <td>LW, CAM</td>\n",
       "    </tr>\n",
       "  </tbody>\n",
       "</table>\n",
       "</div>"
      ],
      "text/plain": [
       "                  player_positions\n",
       "short_name                        \n",
       "L. Messi                RW, ST, CF\n",
       "Cristiano Ronaldo           ST, LW\n",
       "J. Oblak                        GK\n",
       "R. Lewandowski                  ST\n",
       "Neymar Jr                  LW, CAM"
      ]
     },
     "execution_count": 45,
     "metadata": {},
     "output_type": "execute_result"
    }
   ],
   "source": [
    "fifa21[[\"player_positions\",\"short_name\"]].set_index(\"short_name\").head()"
   ]
  },
  {
   "cell_type": "markdown",
   "id": "a9de15fc",
   "metadata": {},
   "source": [
    "##### Resuelva\n",
    "\n",
    "1. Recorra la columna *player_positions* del dataframe y genere una nueva columna llamada *onePosition* donde cada posición tenga los valores Atacante, Mediocampista, Defensor o Arquero, según corresponda. Puede utilizar un *for* para recorrer los datos de la columna. Hay jugadores que juegan en más de una posición, por ejemplo Cristiano Ronaldo, en esos casos reemplace con la primer ocurrencia, en el ejemplo de CR7 su posición sería reemplazada por *Atacante* ya que *ST* es la primer ocurrencia. Una vez agregada la columna *onePosition*, elimine la columna *player_positions*\n",
    "2. Genere un gráfico de barras donde se muestre la cantidad de jugadores por cada posición del total del dataframe.\n",
    "3. Repita el punto 3 pero solamente para jugadores de nacionalidad uruguaya.\n",
    "4. ¿Cual es el promedio de costos por posición de los jugadores de nacionalidad uruguaya?"
   ]
  },
  {
   "cell_type": "code",
   "execution_count": 46,
   "id": "02bfedc3",
   "metadata": {},
   "outputs": [],
   "source": [
    "## TODO 5.5"
   ]
  },
  {
   "cell_type": "markdown",
   "id": "071949a7",
   "metadata": {},
   "source": [
    "#### 5.6 TOP 10\n",
    "\n",
    "1. Genere un nuevo subset con los datos filtrado por la columna *position* para *Atacante*. Sólo tome os primeros 10 valores. El nuevo subset debe tener las columnas *[short_name, nationality, club_name, height_cm, position,\tvalue_eur, overall, potential]*. Ordenarlo por overall y potential (en ese orden) de manera ascendente (ambos). Realizar un set_index() por *short_name*.\n",
    "2. Repita el punto 1 para formar subsets para las posiciones *Mediocampista*, *Defensor* y *Arquero."
   ]
  },
  {
   "cell_type": "code",
   "execution_count": 47,
   "id": "5e57d401",
   "metadata": {},
   "outputs": [],
   "source": [
    "## TODO 5.6"
   ]
  }
 ],
 "metadata": {
  "interpreter": {
   "hash": "ad2bdc8ecc057115af97d19610ffacc2b4e99fae6737bb82f5d7fb13d2f2c186"
  },
  "kernelspec": {
   "display_name": "Python 3.9.7 ('base')",
   "language": "python",
   "name": "python3"
  },
  "language_info": {
   "codemirror_mode": {
    "name": "ipython",
    "version": 3
   },
   "file_extension": ".py",
   "mimetype": "text/x-python",
   "name": "python",
   "nbconvert_exporter": "python",
   "pygments_lexer": "ipython3",
   "version": "3.9.7"
  }
 },
 "nbformat": 4,
 "nbformat_minor": 5
}
