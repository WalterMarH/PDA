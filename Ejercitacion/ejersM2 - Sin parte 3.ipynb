{
 "cells": [
  {
   "cell_type": "markdown",
   "id": "6c5bce21",
   "metadata": {},
   "source": [
    "# <center> <span style='color:#3A40A2 '> Ejercitación Módulo 2 </span></center>\n",
    "<hr style=\"border:1px solid gray\"> </hr>\n",
    "\n",
    "La siguiente notebook contiene ejercitación del Módulo 2 de la Unidad Curricular ***\"Programación Digital Avanzada\"*** de la carrera de *Ingeniería Biomédica* de la UTEC.\n",
    "\n",
    "La *primera parte* y la *segunda parte* de esta notebook serán utilizadas para ejercitación. Por otro lado, la *tercera parte* será utilizada para el laboratorio del módulo y **se debe entregar** resuelta en una Jupyter Notebbok (puede ser esta misma). Además debe subirse la resolución a su repositorio de PDA en github.\n",
    "\n",
    "Profesor Adjunto: *Mag. Bioing. Baldezzari Lucas*\n",
    "\n",
    "<p style='text-align: right;'> V2022 </p>"
   ]
  },
  {
   "cell_type": "markdown",
   "id": "9f3524dd",
   "metadata": {},
   "source": [
    "<hr style=\"border:1px solid gray\"> </hr>\n",
    "\n",
    "## <span style='color:#3A40A2 '> Primera parte </span>\n",
    "\n",
    "Investigue y responda.\n",
    "\n",
    "1. ¿Qué sginifica que Python sea un lenguaje *no tipificado*.\n",
    "2. Mencione algunas diferencias entre los tipos de datos *int* y *reales* en Python\n",
    "3. Mencione algunas diferencias entre los tipos *tuplas*, *listas*, *string* y *diccionarios* en Python\n",
    "4. ¿Qué es un *elemento* de una lista? ¿Cómo se puede acceder a un determinado elemento?\n",
    "5. ¿Qué significa que un tipo de dato sea dinámico y mutable?\n",
    "6. ¿Qué se entiende por *colección* o *collection* en Python? ¿Qué tipos de datos pertenecen a esta categoría?\n",
    "7. ¿Qué significa *Aliasing* en el ámbito de Python?\n",
    "8. ¿Qué entiende por parámetro o argumento de una función?\n",
    "9. En las siguientes líneas de código, ¿cuál es la diferencia entre las variables s1 y s2?\n",
    "\n",
    "```Python\n",
    "def saludar():\n",
    "    print(\"Buenas!\")\n",
    "    \n",
    "s1 = saludar()\n",
    "s2 = saludar\n",
    "```\n",
    "\n",
    "10. ¿Qué significa que las funciones *lambdas* pueden ser *anónimas*?\n",
    "11. ¿Qué palabra reservada puede usarse para chequear si un elemento dentro se encuentra dentro de un set o una lista?\n",
    "12. Observe el siguiente código y responda si es posible realizar dicha asignación. ¿Si? ¿No? ¿Por qué?\n",
    "\n",
    "```Python\n",
    "miSet = {1,2,3, [1,2,3]}\n",
    "```"
   ]
  },
  {
   "cell_type": "markdown",
   "id": "8b819c20",
   "metadata": {},
   "source": [
    "<hr style=\"border:1px solid gray\"> </hr>\n",
    "\n",
    "## <span style='color:#3A40A2 '> Segunda parte </span>\n",
    "\n",
    "En esta parte deberá resolver los siguientes ejercicios.\n",
    "\n",
    "*NOTA:* Esta parte no debe entregarse."
   ]
  },
  {
   "cell_type": "markdown",
   "id": "6379e6ff",
   "metadata": {},
   "source": [
    "#### <span style='color:#f95441'>Funciones para lectura de entradas desde teclado</span>\n",
    "\n",
    "Python ofrece algunas funciones *[built-in](https://docs.python.org/3/library/functions.html)* para solicitar a un usuario que ingrese algo por el teclado y leer dicha entrada, alguna de estas funciones son *[raw_input](https://python-reference.readthedocs.io/en/latest/docs/functions/raw_input.html)* e *[input()](https://docs.python.org/3/library/functions.html#input)*.\n",
    "\n",
    "Por ejemplo, \n",
    "\n",
    "```Python\n",
    "nombre = input(\"¿Cuál es tu nombre?\")\n",
    "print(f\"Hola, {nombre}\")\n",
    "```"
   ]
  },
  {
   "cell_type": "markdown",
   "id": "03b63fc7",
   "metadata": {},
   "source": [
    "### <span style='color:#f95441'>Ejercicios</span>"
   ]
  },
  {
   "cell_type": "markdown",
   "id": "fb7eac21",
   "metadata": {},
   "source": [
    "##### Ejercicio 2.1\n",
    "\n",
    "Un polígono es regular si todos sus lados poseen la misma longitud y los ángulos internos de lados adyacentes son iguales. El área de un políguno regular puede ser calculado usando la siguiente fórmula, sonde $s$ es el largo de cada lado y $n$ es la cantidad de lados.\n",
    "\n",
    "$$   area = \\frac{n\\times s^2}{4\\times \\tan(\\frac{\\pi}{n})}  $$\n",
    "\n",
    "Escriba un programa que lea desde el teclado los valores de $s$ y $n$ y muestre el área del polígono."
   ]
  },
  {
   "cell_type": "code",
   "execution_count": 1,
   "id": "6dc04993",
   "metadata": {},
   "outputs": [
    {
     "name": "stdout",
     "output_type": "stream",
     "text": [
      "Ingrese el largo de cada lado en cm: 10\n",
      "Ingrese la cantidad de lados: 3\n",
      "El área del poligono es:  43.301270189221945 cm2\n"
     ]
    }
   ],
   "source": [
    "## Resolución ejercicio 2.1\n",
    "import math as math\n",
    "s=float(input(\"Ingrese el largo de cada lado en cm: \"))\n",
    "n=int(input(\"Ingrese la cantidad de lados: \"))\n",
    "\n",
    "area=(n*s**2)/(4*math.tan(math.pi/n))\n",
    "print(\"El área del poligono es: \",area,\"cm2\")\n",
    "\n",
    "##TO DO"
   ]
  },
  {
   "cell_type": "markdown",
   "id": "46449bdf",
   "metadata": {},
   "source": [
    "##### Ejercicio 2.2\n",
    "\n",
    "Escriba un programa que lea desde el teclado el valor de un entero de cuatro dígitos y muestre por pantalla la suma de los dígitos. Por ejemplo, si el usuario ingresa *1234* el programa debe mostrar *10*."
   ]
  },
  {
   "cell_type": "code",
   "execution_count": 8,
   "id": "23346945",
   "metadata": {},
   "outputs": [
    {
     "name": "stdout",
     "output_type": "stream",
     "text": [
      "Ingrese un entero de 4 digitos:1234\n",
      "10\n"
     ]
    }
   ],
   "source": [
    "## Resolución ejercicio 2.2\n",
    "\n",
    "ent4=input(\"Ingrese un entero de 4 digitos:\")\n",
    "ent4l=list(ent4)\n",
    "x = [int(a) for a in ent4l]\n",
    "print(sum(x))\n",
    "\n",
    "\n",
    "##TO DO"
   ]
  },
  {
   "cell_type": "markdown",
   "id": "77727bcf",
   "metadata": {},
   "source": [
    "##### Ejercicio 2.3\n",
    "\n",
    "Escriba un programa que calcule las raices de una función cuadrática."
   ]
  },
  {
   "cell_type": "code",
   "execution_count": 14,
   "id": "6b6be4bd",
   "metadata": {},
   "outputs": [
    {
     "name": "stdout",
     "output_type": "stream",
     "text": [
      "Ingrese el coeficiente de segundo grado a= -6\n",
      "Ingrese el coeficiente de primer grado b= 36\n",
      "Ingrese el coeficiente del termino independiente= -59\n",
      "Las raices son: r1= (3-0.9128709291752769j)  y r2= (3+0.9128709291752769j)\n"
     ]
    }
   ],
   "source": [
    "## Resolución ejercicio 2.3\n",
    "\n",
    "a=float(input(\"Ingrese el coeficiente de segundo grado a= \"))\n",
    "b=float(input(\"Ingrese el coeficiente de primer grado b= \"))\n",
    "c=float(input(\"Ingrese el coeficiente del termino independiente= \"))\n",
    "\n",
    "r1=(-b+(b**2-4*a*c)**(1/2))/(2*a)\n",
    "r2=(-b-(b**2-4*a*c)**(1/2))/(2*a)\n",
    "\n",
    "print(\"Las raices son: r1=\",r1,\" y r2=\"\n",
    ",r2)\n",
    "##TO DO"
   ]
  },
  {
   "cell_type": "markdown",
   "id": "cbd0f92b",
   "metadata": {},
   "source": [
    "##### Ejercicio 2.4\n",
    "\n",
    "Ruido |dB |\n",
    "-----|-----| \n",
    "Martillo neumático |130|\n",
    "Desmalezadora a nafta|106|\n",
    "Alarma reloj|70|\n",
    "Tranquilo|40|\n",
    "\n",
    "Escriba un programa que reciba un nivel de ruido en decibeles $dB$. Si el nivel de ruido coincide con uno de los ruidos de la tabla anterior, el programa debe informar a qué se debe. En el caso de que el nivel de ruido este entre alguno de los dos niveles, el programa debe informar entre que ruidos se encuentra el nivel ingresado. Además, el programa implementado debe dar mensajes adecuados si los sonidos estan por encima del valor máximo o por debajo del mínimo."
   ]
  },
  {
   "cell_type": "code",
   "execution_count": 17,
   "id": "a902e933",
   "metadata": {},
   "outputs": [
    {
     "name": "stdout",
     "output_type": "stream",
     "text": [
      "Ingrese el nivel de ruido en dB: 131\n",
      "El nivel de ruido es exesivo (>130dB)\n"
     ]
    }
   ],
   "source": [
    "## Resolución ejercicio 2.4\n",
    "db=int(input(\"Ingrese el nivel de ruido en dB: \"))\n",
    "if db==130:\n",
    "    print(\"El nivel de ruido coincide con el de un Martillo Neumático\")\n",
    "elif db>130:\n",
    "    print(\"El nivel de ruido es exesivo (>130dB)\")\n",
    "elif db==106:\n",
    "    print(\"El nivel de ruido coincide con el de una Desmalezadora a nafta\") \n",
    "elif db<130 and db>106:\n",
    "    print(\"El nivel de ruido esta entre el de un Martillo Neumático y el de una Desmalezadora a nafta\")\n",
    "elif db==70:\n",
    "    print(\"El nivel de ruido coincide con el de una Alarma reloj\")  \n",
    "elif db<106 and db>70:\n",
    "    print(\"El nivel de ruido esta entre el de una Desmalezadora a nafta y el de una Alarma reloj\")\n",
    "elif db==40:\n",
    "    print(\"El nivel de ruido coincide con el de Tranquilo\")  \n",
    "elif db<70 and db>70:\n",
    "    print(\"El nivel de ruido esta entre el de una Alarma reloj y el de Tranquilo\")\n",
    "elif db<40:\n",
    "    print(\"El nuvel de ruido es menor al minimo\")\n",
    "\n",
    "##TO DO"
   ]
  },
  {
   "cell_type": "markdown",
   "id": "f30357e8",
   "metadata": {},
   "source": [
    "##### Ejercicio 2.5\n",
    "\n",
    "Utilizando *enumerate()* implemente un programa que imprima las letras pertenecientes a los índices divisibles por 3 del string *abcdefghijklmnopqrstuvwxyz*. Empezar a contar desde 1."
   ]
  },
  {
   "cell_type": "code",
   "execution_count": 22,
   "id": "a4b7d901",
   "metadata": {},
   "outputs": [
    {
     "name": "stdout",
     "output_type": "stream",
     "text": [
      "c\n",
      "f\n",
      "i\n",
      "l\n",
      "o\n",
      "r\n",
      "u\n",
      "x\n"
     ]
    }
   ],
   "source": [
    "### Resolución Ejercicio 2.5\n",
    "\n",
    "abc = \"abcdefghijklmnopqrstuvwxyz\"\n",
    "abcE= enumerate(abc)\n",
    "for a,b in abcE:\n",
    "    if (a+1)%3==0:\n",
    "        print(b)\n",
    "\n",
    "\n",
    "##TO DO"
   ]
  },
  {
   "cell_type": "markdown",
   "id": "3fe24424",
   "metadata": {},
   "source": [
    "##### Ejercicio 2.6\n",
    "\n",
    "Las posiciones en un tablero de ajedrez se identifican con letras y números. Las letras indican las columnas mientras que los números indican las filas, como la imágen debajo.\n",
    "\n",
    "<img src=\"chessboard.png\" width=250 height=250 />\n",
    "\n",
    "Escriba un programa que lea desde el teclado una coordenada del tablero (ej. 'a3') y devuelva si el casillero es de color blanco o negro. Asuma que todas las entradas son correctas, es decir, **no** es necesario realizar un chequeo de errores (veremos más adelante cómo hacer esto con *try* y *except*)."
   ]
  },
  {
   "cell_type": "code",
   "execution_count": 27,
   "id": "c6462948",
   "metadata": {},
   "outputs": [
    {
     "name": "stdout",
     "output_type": "stream",
     "text": [
      "Ingrese la coordenada en el tablero (ej. a3): h2\n",
      "Negro\n"
     ]
    }
   ],
   "source": [
    "## Resolución ejercicio 2.6\n",
    "coor=input(\"Ingrese la coordenada en el tablero (ej. a3): \")\n",
    "negro=[\"a1\",\"a3\",\"a5\",\"a7\",\"b2\",\"b4\",\"b6\",\"b8\",\"c1\",\"c3\",\"c5\",\"c7\",\"d2\",\"d4\",\"d6\",\"d8\",\"e1\",\"e3\",\"e5\",\"e7\",\"f2\",\"f4\",\"f6\",\"f8\",\"g1\",\"g3\",\"g5\",\"g7\",\"h2\",\"h4\",\"h6\",\"h8\"]\n",
    "if coor in negro:\n",
    "    print(\"Negro\")\n",
    "else:\n",
    "    print(\"Blanco\")\n",
    "\n",
    "##TO DO"
   ]
  },
  {
   "cell_type": "markdown",
   "id": "24400e9b",
   "metadata": {},
   "source": [
    "##### Ejercicio 2.7\n",
    "\n",
    "Escriba un programa que convierta números binarios a números decimales. El programa debe leer desde el teclado un número binario en forma de string y computar el equivalente en decimal. El número calculado debe mostrarse en un mensaje."
   ]
  },
  {
   "cell_type": "code",
   "execution_count": 9,
   "id": "80726afa",
   "metadata": {},
   "outputs": [
    {
     "name": "stdout",
     "output_type": "stream",
     "text": [
      "Ingresa el número en binario: 10101010\n",
      "El número en decimal es:  170\n"
     ]
    }
   ],
   "source": [
    "num=input(\"Ingresa el número en binario: \")\n",
    "c=len(num)-1\n",
    "suma=0\n",
    "for i in num:\n",
    "    suma=suma+int(i)*2**(c)\n",
    "    c=c-1\n",
    "print(\"El número en decimal es: \",suma)"
   ]
  },
  {
   "cell_type": "code",
   "execution_count": 33,
   "id": "ca038f66",
   "metadata": {},
   "outputs": [],
   "source": [
    "## Resolución ejercicio 2.7\n",
    "\n",
    "##TO DO"
   ]
  },
  {
   "cell_type": "markdown",
   "id": "d1a113fe",
   "metadata": {},
   "source": [
    "##### Ejercicio 2.8\n",
    "\n",
    "Escriba un programa que determine si un número entero $n$ es *perfecto*. Un número es perfecto cuando la suma de sus propios divisores da el mismo número.\n",
    "\n",
    "Por ejemplo, el *6* es un número perfecto, ya que la suma de sus divisores es $1+2+3 = 6$."
   ]
  },
  {
   "cell_type": "code",
   "execution_count": 2,
   "id": "0ad62720",
   "metadata": {},
   "outputs": [
    {
     "name": "stdout",
     "output_type": "stream",
     "text": [
      "6  Es perfecto\n",
      "28  Es perfecto\n",
      "496  Es perfecto\n"
     ]
    }
   ],
   "source": [
    "## Resolución ejercicio 2.8\n",
    "#num=int(input(\"Ingresa un número entero: \"))\n",
    "#divisores=[]\n",
    "#listadiv=[x for x in range(1,num) if num%x==0]\n",
    "#for i in range(1,num):\n",
    " #   if num%i==0:\n",
    "  #      divisores.append(i)\n",
    "#if sum(divisores)==num:\n",
    "#if sum(listadiv)==num:\n",
    "\n",
    "#if sum([x for x in range(1,num) if num%x==0])==num:\n",
    "#    print(\"Es perfecto\")\n",
    "#else:\n",
    "#    print(\"No es perfecto\")\n",
    "for num in range(1,1000):\n",
    "    if sum([x for x in range(1,num) if num%x==0])==num:\n",
    "        print(num,\" Es perfecto\")\n",
    "        \n",
    "        \n",
    "        \n",
    "    \n",
    "##TO DO"
   ]
  },
  {
   "cell_type": "markdown",
   "id": "e3173db0",
   "metadata": {},
   "source": [
    "### <span style='color:#4BB58D '>Funciones</span>"
   ]
  },
  {
   "cell_type": "markdown",
   "id": "df54632d",
   "metadata": {},
   "source": [
    "## Ejercicio 2.9\n",
    "\n",
    "Implemente una función que devuelva el factorial de un número entero n."
   ]
  },
  {
   "cell_type": "code",
   "execution_count": 4,
   "id": "3e0225ac",
   "metadata": {},
   "outputs": [
    {
     "name": "stdout",
     "output_type": "stream",
     "text": [
      "120\n"
     ]
    }
   ],
   "source": [
    "## Resolución ejercicio 2.9\n",
    "# def facto(num):\n",
    "#     a=1\n",
    "#     for i in range(1,num+1):\n",
    "#         a=a*i\n",
    "#     return a\n",
    "def facto(num):\n",
    "    if num==1:\n",
    "        return 1\n",
    "    else:\n",
    "        return num*facto(num-1)\n",
    "print(facto(5))\n",
    "##TO DO"
   ]
  },
  {
   "cell_type": "markdown",
   "id": "ef58e192",
   "metadata": {},
   "source": [
    "##### Ejercicio 2.10\n",
    "\n",
    "Implemente una función que reciba una lista de números enteros y devuelva una nueva lista pero sin los valores repetidos.\n",
    "\n",
    "NOTA: No usar funciones *built-in*."
   ]
  },
  {
   "cell_type": "code",
   "execution_count": 5,
   "id": "3b51ecb3",
   "metadata": {},
   "outputs": [
    {
     "name": "stdout",
     "output_type": "stream",
     "text": [
      "[1, 2, 3, 4, 5, 6, 7, 8, 9, 10]\n"
     ]
    }
   ],
   "source": [
    "## Resolución ejercicio 2.10\n",
    "def sinrep(listaconrepe):\n",
    "    listasinrepe = [] \n",
    "    for i in listaconrepe:\n",
    "        if i not in listasinrepe:\n",
    "            listasinrepe.append(i)\n",
    "    return(listasinrepe)\n",
    "lista=[1,2,2,2,3,2,4,5,6,6,7,5,6,8,5,4,2,2,8,9,10]\n",
    "print(sinrep(lista))\n",
    "\n",
    "        \n",
    "\n",
    "##TO DO"
   ]
  },
  {
   "cell_type": "markdown",
   "id": "e4f19239",
   "metadata": {},
   "source": [
    "##### Ejercicio 2.11\n",
    "\n",
    "Implemente una función que reciba como argumento un año y retorne *True* si el año es bisiesto, caso contrario que retorne *False.\n",
    "\n",
    "Para saber si un año es bisiesto tenga en cuenta estos puntos:\n",
    "- Cualquier año divisible por 400 es bisiesto.\n",
    "- De los años restantes, cualquiera que sea divisible por 100 **no** es bisiesto.\n",
    "- De los años restantes, cualquiera que sea divisible por 4 es un año bisiesto."
   ]
  },
  {
   "cell_type": "code",
   "execution_count": 8,
   "id": "a89050a3",
   "metadata": {},
   "outputs": [
    {
     "name": "stdout",
     "output_type": "stream",
     "text": [
      "2020 es biciesto?  True\n"
     ]
    }
   ],
   "source": [
    "## Resolución ejercicio 2.11\n",
    "def esbisiesto(year):\n",
    "    if year%400==0:\n",
    "        sol=True\n",
    "    elif year%100==0:\n",
    "        sol=False\n",
    "    elif year%4==0:\n",
    "        sol=True\n",
    "    else:\n",
    "        sol=False\n",
    "    return sol\n",
    "year=2020\n",
    "print(year, \"es biciesto? \",esbisiesto(year))\n",
    "\n",
    "##TO DO"
   ]
  },
  {
   "cell_type": "markdown",
   "id": "510e5cbd",
   "metadata": {},
   "source": [
    "##### Ejercicio 2.12\n",
    "\n",
    "Impmemente una función que retorne el máximo de una lista de números. No utilizar funciones *built-in*."
   ]
  },
  {
   "cell_type": "code",
   "execution_count": 12,
   "id": "a93c396b",
   "metadata": {},
   "outputs": [
    {
     "name": "stdout",
     "output_type": "stream",
     "text": [
      "26\n"
     ]
    }
   ],
   "source": [
    "## Resolución ejercicio 2.12\n",
    "def maximodelist(lista):\n",
    "    a=0\n",
    "    for i in lista:\n",
    "        if i>a:\n",
    "            a=i\n",
    "    return(a)\n",
    "lista=[1,2,2,2,3,2,26,5,6,6,7,5,6,8,5,4,2,2,8,9,10]\n",
    "print(maximodelist(lista))\n",
    "\n",
    "##TO DO"
   ]
  },
  {
   "cell_type": "markdown",
   "id": "d371fab2",
   "metadata": {},
   "source": [
    "##### Ejercicio 2.13\n",
    "\n",
    "Implemente una función que reciba como parámetro una lista de números (enteros o flotantes) y retorne la *mediana*."
   ]
  },
  {
   "cell_type": "code",
   "execution_count": 15,
   "id": "641b0e45",
   "metadata": {},
   "outputs": [
    {
     "name": "stdout",
     "output_type": "stream",
     "text": [
      "10\n",
      "7\n"
     ]
    }
   ],
   "source": [
    "## Resolución ejercicio 2.13\n",
    "def mediana(lista):\n",
    "    medn=int(len(lista)/2)\n",
    "    print(medn)\n",
    "    medianav=lista[medn]\n",
    "    return medianav\n",
    "lista=[1,2,2,2,3,2,26,5,6,6,7,5,6,8,5,4,2,2,8,9,10]\n",
    "print(mediana(lista))\n",
    "##TO DO"
   ]
  },
  {
   "cell_type": "markdown",
   "id": "17315869",
   "metadata": {},
   "source": [
    "<hr style=\"border:1px solid gray\"> </hr>\n",
    "\n",
    "## <span style='color:#3A40A2 '> Tercera parte </span>\n",
    "\n",
    "**Se habilitará para el laboratorio.**"
   ]
  },
  {
   "cell_type": "markdown",
   "id": "c552bc2a",
   "metadata": {},
   "source": [
    "<hr style=\"border:1px solid gray\"> </hr>\n",
    "\n",
    "##  <span style='color:#3A40A2 '>FIN</span>"
   ]
  }
 ],
 "metadata": {
  "interpreter": {
   "hash": "341b29a86feb41683388a2350ede9b29bff08e5e019b1f08826cb582c6a8c162"
  },
  "kernelspec": {
   "display_name": "Python 3 (ipykernel)",
   "language": "python",
   "name": "python3"
  },
  "language_info": {
   "codemirror_mode": {
    "name": "ipython",
    "version": 3
   },
   "file_extension": ".py",
   "mimetype": "text/x-python",
   "name": "python",
   "nbconvert_exporter": "python",
   "pygments_lexer": "ipython3",
   "version": "3.9.7"
  }
 },
 "nbformat": 4,
 "nbformat_minor": 5
}
